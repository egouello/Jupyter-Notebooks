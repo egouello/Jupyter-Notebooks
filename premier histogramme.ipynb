{
 "metadata": {
  "name": "",
  "signature": "sha256:4e81985b443200d4a2fc41a49b3c71c1d0ea1b4d3dab26c97c97cff744951d21"
 },
 "nbformat": 3,
 "nbformat_minor": 0,
 "worksheets": [
  {
   "cells": [
    {
     "cell_type": "code",
     "collapsed": false,
     "input": [
      "import numpy as np\n",
      "import matplotlib.mlab as mlab\n",
      "import matplotlib.pyplot as plt\n",
      "%pylab inline"
     ],
     "language": "python",
     "metadata": {},
     "outputs": [
      {
       "output_type": "stream",
       "stream": "stdout",
       "text": [
        "Populating the interactive namespace from numpy and matplotlib\n"
       ]
      }
     ],
     "prompt_number": 35
    },
    {
     "cell_type": "code",
     "collapsed": false,
     "input": [
      "mu, sigma = 100, 15\n",
      "x = mu + sigma*np.random.randn(10000)"
     ],
     "language": "python",
     "metadata": {},
     "outputs": [],
     "prompt_number": 36
    },
    {
     "cell_type": "code",
     "collapsed": false,
     "input": [
      "print(x)"
     ],
     "language": "python",
     "metadata": {},
     "outputs": [
      {
       "output_type": "stream",
       "stream": "stdout",
       "text": [
        "[ 120.89181691  110.52192217  128.82873996 ...,   99.34887798  118.93086283\n",
        "   68.19411196]\n"
       ]
      }
     ],
     "prompt_number": 37
    },
    {
     "cell_type": "code",
     "collapsed": false,
     "input": [
      "print(n)\n",
      "print(bins)\n",
      "print(patches)"
     ],
     "language": "python",
     "metadata": {},
     "outputs": [
      {
       "output_type": "stream",
       "stream": "stdout",
       "text": [
        "[  3.20017198e-04   2.08421457e-03   9.06715396e-03   2.10390794e-02\n",
        "   2.55193202e-02   1.67229500e-02   6.09673791e-03   1.05851843e-03\n",
        "   1.39494676e-04   8.20556919e-06]\n",
        "[  47.35635531   59.54320032   71.73004534   83.91689036   96.10373537\n",
        "  108.29058039  120.4774254   132.66427042  144.85111544  157.03796045\n",
        "  169.22480547]\n",
        "<a list of 10 Patch objects>\n"
       ]
      }
     ],
     "prompt_number": 39
    },
    {
     "cell_type": "code",
     "collapsed": false,
     "input": [
      "n, bins, patches = plt.hist(x, 100, normed=1, facecolor='green', alpha=0.75)\n",
      "\n",
      "# add a 'best fit' line\n",
      "y = mlab.normpdf( bins, mu, sigma)\n",
      "l = plt.plot(bins, y, 'r--', linewidth=1)\n",
      "\n",
      "plt.xlabel('Smarts')\n",
      "plt.ylabel('Probability')\n",
      "plt.title(r'$\\mathrm{Histogram\\ of\\ IQ:}\\ \\mu=100,\\ \\sigma=15$')\n",
      "plt.axis([40, 160, 0, 0.03])\n",
      "plt.grid(True)\n",
      "\n",
      "plt.show()"
     ],
     "language": "python",
     "metadata": {},
     "outputs": [
      {
       "metadata": {},
       "output_type": "display_data",
       "png": "[encoded data removed]",
       "text": [
        "<matplotlib.figure.Figure at 0x5568400>"
       ]
      }
     ],
     "prompt_number": 42
    },
    {
     "cell_type": "code",
     "collapsed": false,
     "input": [],
     "language": "python",
     "metadata": {},
     "outputs": [],
     "prompt_number": 40
    }
   ],
   "metadata": {}
  }
 ]
}