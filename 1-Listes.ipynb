{
 "metadata": {
  "name": "",
  "signature": "sha256:539dcafe736dc6cf2804079c1a8735bd333715b5279cd5c2188b2250b4c95f82"
 },
 "nbformat": 3,
 "nbformat_minor": 0,
 "worksheets": [
  {
   "cells": [
    {
     "cell_type": "code",
     "collapsed": false,
     "input": [
      "from pylab import *"
     ],
     "language": "python",
     "metadata": {},
     "outputs": [],
     "prompt_number": 1
    },
    {
     "cell_type": "heading",
     "level": 2,
     "metadata": {},
     "source": [
      "Quelques manipulations de listes et tuples:"
     ]
    },
    {
     "cell_type": "heading",
     "level": 3,
     "metadata": {},
     "source": [
      "Tuples"
     ]
    },
    {
     "cell_type": "code",
     "collapsed": false,
     "input": [
      "#Les tuples sont des liste constantes, non modifiables\n",
      "L1=(1,3,4,5,9)\n",
      "print(L1)\n",
      "print(L1[3])"
     ],
     "language": "python",
     "metadata": {},
     "outputs": [
      {
       "output_type": "stream",
       "stream": "stdout",
       "text": [
        "(1, 3, 4, 5, 9)\n",
        "5\n"
       ]
      }
     ],
     "prompt_number": 9
    },
    {
     "cell_type": "code",
     "collapsed": false,
     "input": [
      "#modifier g\u00e9n\u00e8re une erreur\n",
      "L1[3]=-1\n",
      "print(L1)"
     ],
     "language": "python",
     "metadata": {},
     "outputs": [
      {
       "ename": "TypeError",
       "evalue": "'tuple' object does not support item assignment",
       "output_type": "pyerr",
       "traceback": [
        "\u001b[1;31m---------------------------------------------------------------------------\u001b[0m\n\u001b[1;31mTypeError\u001b[0m                                 Traceback (most recent call last)",
        "\u001b[1;32m<ipython-input-10-c6f5df3c4b3b>\u001b[0m in \u001b[0;36m<module>\u001b[1;34m()\u001b[0m\n\u001b[1;32m----> 1\u001b[1;33m \u001b[0mL1\u001b[0m\u001b[1;33m[\u001b[0m\u001b[1;36m3\u001b[0m\u001b[1;33m]\u001b[0m\u001b[1;33m=\u001b[0m\u001b[1;33m-\u001b[0m\u001b[1;36m1\u001b[0m\u001b[1;33m\u001b[0m\u001b[0m\n\u001b[0m\u001b[0;32m      2\u001b[0m \u001b[0mprint\u001b[0m\u001b[1;33m(\u001b[0m\u001b[0mL1\u001b[0m\u001b[1;33m)\u001b[0m\u001b[1;33m\u001b[0m\u001b[0m\n",
        "\u001b[1;31mTypeError\u001b[0m: 'tuple' object does not support item assignment"
       ]
      }
     ],
     "prompt_number": 10
    },
    {
     "cell_type": "heading",
     "level": 3,
     "metadata": {},
     "source": [
      "Lists"
     ]
    },
    {
     "cell_type": "code",
     "collapsed": false,
     "input": [
      "#Les listes, elles sont modifiables\n",
      "L1=[1,3,4,5,9,12,0,8,312,4,1]\n",
      "print(L1)\n",
      "print(L1[3])"
     ],
     "language": "python",
     "metadata": {},
     "outputs": [
      {
       "output_type": "stream",
       "stream": "stdout",
       "text": [
        "[1, 3, 4, 5, 9, 12, 0, 8, 312, 4, 1]\n",
        "5\n"
       ]
      }
     ],
     "prompt_number": 36
    },
    {
     "cell_type": "code",
     "collapsed": false,
     "input": [
      "L1[3]=-1\n",
      "print(L1)"
     ],
     "language": "python",
     "metadata": {},
     "outputs": [
      {
       "output_type": "stream",
       "stream": "stdout",
       "text": [
        "[1, 3, 4, -1, 9, 12, 0, 8, 312, 4]\n"
       ]
      }
     ],
     "prompt_number": 28
    },
    {
     "cell_type": "heading",
     "level": 3,
     "metadata": {},
     "source": [
      "Slicing :"
     ]
    },
    {
     "cell_type": "code",
     "collapsed": false,
     "input": [
      "#acc\u00e8s au dernier \u00e9l\u00e9ment\n",
      "print(L1[-1])"
     ],
     "language": "python",
     "metadata": {},
     "outputs": []
    },
    {
     "cell_type": "code",
     "collapsed": false,
     "input": [
      "#avant dernier\n",
      "print(L1[-2])"
     ],
     "language": "python",
     "metadata": {},
     "outputs": []
    },
    {
     "cell_type": "code",
     "collapsed": false,
     "input": [
      "#acc\u00e8s \u00e0 une sous liste (ici les \u00e9l\u00e9ments 2 \u00e0 5 (5 non inclus))\n",
      "print(L1[2:5])"
     ],
     "language": "python",
     "metadata": {},
     "outputs": []
    },
    {
     "cell_type": "code",
     "collapsed": false,
     "input": [
      "#acc\u00e8s \u00e0 une sous liste (ici les \u00e9l\u00e9ments 2 \u00e0 la fin)\n",
      "print(L1[2:])"
     ],
     "language": "python",
     "metadata": {},
     "outputs": []
    },
    {
     "cell_type": "code",
     "collapsed": false,
     "input": [
      "#acc\u00e8s \u00e0 une sous liste (ici du d\u00e9but \u00e0 l'\u00e9l\u00e9ment 4 (non inclus))\n",
      "print(L1[:4])"
     ],
     "language": "python",
     "metadata": {},
     "outputs": [
      {
       "output_type": "stream",
       "stream": "stdout",
       "text": [
        "4\n",
        "312\n",
        "[4, -1, 9]\n",
        "[4, -1, 9, 12, 0, 8, 312, 4]\n",
        "[1, 3, 4, -1]\n"
       ]
      }
     ],
     "prompt_number": 29
    },
    {
     "cell_type": "heading",
     "level": 3,
     "metadata": {},
     "source": [
      "Les listes sont des objets qui poss\u00e8dent des m\u00e9thodes"
     ]
    },
    {
     "cell_type": "code",
     "collapsed": false,
     "input": [
      "L2=L1"
     ],
     "language": "python",
     "metadata": {},
     "outputs": []
    },
    {
     "cell_type": "code",
     "collapsed": false,
     "input": [
      "#La m\u00e9thode sort() fait un tri sur la liste\n",
      "L1.sort()\n",
      "print(L1)"
     ],
     "language": "python",
     "metadata": {},
     "outputs": []
    },
    {
     "cell_type": "code",
     "collapsed": false,
     "input": [
      "#la m\u00e9thode reverse() inverse la liste\n",
      "L1.reverse()\n",
      "print(L1)"
     ],
     "language": "python",
     "metadata": {},
     "outputs": []
    },
    {
     "cell_type": "code",
     "collapsed": false,
     "input": [
      "#la m\u00e9thode append() ajoute un \u00e9l\u00e9ment\n",
      "L1.append(27)\n",
      "print(L1)"
     ],
     "language": "python",
     "metadata": {},
     "outputs": []
    },
    {
     "cell_type": "code",
     "collapsed": false,
     "input": [
      "#L1 et L2 font r\u00e9f\u00e9rence au m\u00eame objet...\n",
      "print(L2)\n",
      "#avec l'instruction L2=List(L1), on pourrait cloner L1 et avoir un objet diff\u00e9rent"
     ],
     "language": "python",
     "metadata": {},
     "outputs": []
    },
    {
     "cell_type": "code",
     "collapsed": false,
     "input": [
      "#on peut trouver l'index d'un \u00e9l\u00e9ment particulier\n",
      "L1.index(3)"
     ],
     "language": "python",
     "metadata": {},
     "outputs": []
    },
    {
     "cell_type": "code",
     "collapsed": false,
     "input": [
      "#la m\u00e9thode remove() supprime le premier \u00e9l\u00e9ment demand\u00e9 trouv\u00e9 dans la liste\n",
      "L1.remove(4)\n",
      "print(L1)"
     ],
     "language": "python",
     "metadata": {},
     "outputs": []
    },
    {
     "cell_type": "code",
     "collapsed": false,
     "input": [
      "#l'instruction del supprime un ou plusieurs \u00e9l\u00e9ments dont l'index est donn\u00e9\n",
      "del L1[1:4]\n",
      "print(L1)"
     ],
     "language": "python",
     "metadata": {},
     "outputs": [
      {
       "output_type": "stream",
       "stream": "stdout",
       "text": [
        "[1, 9, 12, 0, 8, 312, 4, 1]\n"
       ]
      }
     ],
     "prompt_number": 39
    },
    {
     "cell_type": "heading",
     "level": 3,
     "metadata": {},
     "source": [
      "Quelques outils listes tr\u00e8s pratiques en maths: "
     ]
    },
    {
     "cell_type": "code",
     "collapsed": false,
     "input": [
      "#range n'est pas vraiment une liste, mais on peut ex\u00e9cuter une boucle for facilement avec\n",
      "for i in range(10):\n",
      "    print(i,i**2)\n",
      "\n",
      "#arange cr\u00e9e une liste (ici de 0 \u00e0 200 avec un pas de 10)\n",
      "L3=arange(0,200,10)\n",
      "print(L3)"
     ],
     "language": "python",
     "metadata": {},
     "outputs": [
      {
       "output_type": "stream",
       "stream": "stdout",
       "text": [
        "0 0\n",
        "1 1\n",
        "2 4\n",
        "3 9\n",
        "4 16\n",
        "5 25\n",
        "6 36\n",
        "7 49\n",
        "8 64\n",
        "9 81\n",
        "[  0  10  20  30  40  50  60  70  80  90 100 110 120 130 140 150 160 170\n",
        " 180 190]\n"
       ]
      }
     ],
     "prompt_number": 45
    },
    {
     "cell_type": "code",
     "collapsed": false,
     "input": [
      "#linspace permet elle d'obtenir un nombre sp\u00e9cifique de valeur entre un min et un max\n",
      "L3=linspace(0,200,20)\n",
      "print(L3)"
     ],
     "language": "python",
     "metadata": {},
     "outputs": [
      {
       "output_type": "stream",
       "stream": "stdout",
       "text": [
        "[   0.           10.52631579   21.05263158   31.57894737   42.10526316\n",
        "   52.63157895   63.15789474   73.68421053   84.21052632   94.73684211\n",
        "  105.26315789  115.78947368  126.31578947  136.84210526  147.36842105\n",
        "  157.89473684  168.42105263  178.94736842  189.47368421  200.        ]\n"
       ]
      }
     ],
     "prompt_number": 49
    },
    {
     "cell_type": "code",
     "collapsed": false,
     "input": [],
     "language": "python",
     "metadata": {},
     "outputs": []
    }
   ],
   "metadata": {}
  }
 ]
}