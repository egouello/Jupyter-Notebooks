{
  "nbformat": 4,
  "nbformat_minor": 0,
  "metadata": {
    "colab": {
      "name": "Vers la loi normale.ipynb",
      "provenance": []
    }
  },
  "cells": [
    {
      "cell_type": "code",
      "metadata": {
        "id": "GdL5qtltK_Gs",
        "colab_type": "code",
        "colab": {},
        "outputId": "54543e90-a95c-491d-acf6-459360797b97"
      },
      "source": [
        "import numpy as np\n",
        "import matplotlib.mlab as mlab\n",
        "import matplotlib.pyplot as plt\n",
        "%pylab inline"
      ],
      "execution_count": null,
      "outputs": [
        {
          "output_type": "stream",
          "text": [
            "Populating the interactive namespace from numpy and matplotlib\n"
          ],
          "name": "stdout"
        },
        {
          "output_type": "stream",
          "text": [
            "WARNING: pylab import has clobbered these variables: ['binomial']\n",
            "`%matplotlib` prevents importing * from pylab and numpy\n"
          ],
          "name": "stderr"
        }
      ]
    },
    {
      "cell_type": "markdown",
      "metadata": {
        "id": "ZTfjSxsoK_G6",
        "colab_type": "text"
      },
      "source": [
        "##Commençons par générer des nombres aléatoires"
      ]
    },
    {
      "cell_type": "code",
      "metadata": {
        "id": "-R3gTlHpK_G7",
        "colab_type": "code",
        "colab": {},
        "outputId": "7fb5d430-e689-43d3-efa6-c6194aec4438"
      },
      "source": [
        "z=np.random.rand(1000,10)\n",
        "print(z)"
      ],
      "execution_count": null,
      "outputs": [
        {
          "output_type": "stream",
          "text": [
            "[[ 0.78497095  0.15569582  0.59501947 ...,  0.40022362  0.26293586\n",
            "   0.51217981]\n",
            " [ 0.15583991  0.28809307  0.42157498 ...,  0.79209862  0.60940832\n",
            "   0.19363228]\n",
            " [ 0.9692586   0.19128943  0.11673744 ...,  0.98867676  0.29809063\n",
            "   0.56843667]\n",
            " ..., \n",
            " [ 0.71738303  0.86196057  0.20215552 ...,  0.08833081  0.22664564\n",
            "   0.94207272]\n",
            " [ 0.50355114  0.69982947  0.90662392 ...,  0.93849406  0.2891648\n",
            "   0.94995524]\n",
            " [ 0.20256335  0.21158958  0.73645496 ...,  0.28790454  0.31001441\n",
            "   0.53532626]]\n"
          ],
          "name": "stdout"
        }
      ]
    },
    {
      "cell_type": "markdown",
      "metadata": {
        "id": "_PkSM7VcK_HE",
        "colab_type": "text"
      },
      "source": [
        "##Puis Générons des succès de proba 0.4"
      ]
    },
    {
      "cell_type": "code",
      "metadata": {
        "id": "3s79FPFtK_HG",
        "colab_type": "code",
        "colab": {},
        "outputId": "0e7bb923-2c88-4aed-88c9-a294f1b9e329"
      },
      "source": [
        "succes=np.where(z > 0.4, 1, 0) \n",
        "print(succes)"
      ],
      "execution_count": null,
      "outputs": [
        {
          "output_type": "stream",
          "text": [
            "[[1 0 1 ..., 1 0 1]\n",
            " [0 0 1 ..., 1 1 0]\n",
            " [1 0 0 ..., 1 0 1]\n",
            " ..., \n",
            " [1 1 0 ..., 0 0 1]\n",
            " [1 1 1 ..., 1 0 1]\n",
            " [0 0 1 ..., 0 0 1]]\n"
          ],
          "name": "stdout"
        }
      ]
    },
    {
      "cell_type": "markdown",
      "metadata": {
        "id": "js8dTAHKK_HP",
        "colab_type": "text"
      },
      "source": [
        "##Comptons le nombre de succès réalisés en 10 épreuves "
      ]
    },
    {
      "cell_type": "code",
      "metadata": {
        "id": "48S5DScIK_HQ",
        "colab_type": "code",
        "colab": {},
        "outputId": "f8e2a069-9320-4d9e-8f23-ca739809b7d5"
      },
      "source": [
        "binomial=succes.sum(1)\n",
        "print(binomial)"
      ],
      "execution_count": null,
      "outputs": [
        {
          "output_type": "stream",
          "text": [
            "[ 7  6  7  6  6  7  7  4  4  7  8  7  8  7  5  4  6  6  5  5  8  5  4  1  7\n",
            "  7  5  5  6  6  7  8  5  6  6  7  6  6  7  5  6  6  7  9  6  5  6  7  6  6\n",
            "  8  5  4  5  8  4  7  6  8  6  5  8  7  6  7  7  4  4  8  6  6  6  7  7  4\n",
            "  6  6  5  4  7  7  6  5  6  5  6  3  7  7  5  6  8  7  8  7  8  9  8  3  8\n",
            "  5  6  4  6  3  6  7  4  8  6  8  3  7  4  2  6  8  6  3  5  5  6  6  5  5\n",
            "  7  5  8  5  7  8  5  6  5  7  9  7  5  5  7  5  4  4  3  7  5  8  7  4  4\n",
            "  6  6  5  3  5  8  3  4  3  7  6  8  5  6  5  5  6  6  4  4  5  7  8  6  8\n",
            "  7  7  9  3  5  5  5  5  7  5  4  3  6  6  7  5  8  6  8  4  8  7  9  6  6\n",
            "  5  5 10  8  5  6  3  6  7  7  4  6  7  7  6  5  5  7  8  4  7  5  7  7  3\n",
            "  7  4  6  6  8  9  8  4  4  9  8  5  8  7 10  8  7  7  7  6  7  8  8  7  4\n",
            "  9  9  7  8  8  4  5  3  5  8  6  5  7  7  8  5  6  7  4  6  6  4  4  4  3\n",
            "  7  7  7  7  6  5  7  7  5  5  5  6  4  5  4  6  7  5  4  8  6  4  7  5  6\n",
            "  4  7  9  6  3  5  5  7  5  5  6  7  5  4  6  5  7  6  6  5  6  4  4  5  2\n",
            "  7  5  5  6  7  7  4  8  5  5  4  2  4  7  3  5  5  6  6  5  6  6  7  5  4\n",
            "  4  4  5  9  7  9  7  7  5  4  5  7  8  4  5  3  5  5  5  4  4  7  5  4  5\n",
            "  5  5  3  5  9  5  7  7  8  4  5  2  5  8  3  7  7  4  5  7  7  8  4  5  4\n",
            "  6  6  7  7  6  6  6  7  4  8  6  4  7  8  8  5  6  4  6  4  5  8  7  5  6\n",
            "  4  6  8  8  5  9  4  6  4  5  5  5  8  8  7  6  8  3  8  7  8  5  7  5  7\n",
            "  7  8  6  7  8  6  4  5  7  6  8  6  5  5  9  8  5  4  7  5  3  4  5  6  7\n",
            "  6  8  9  5  7  9  6  6  6  5  6  8  6  6  2  7  7  7  8  4  7  6  6  5  7\n",
            "  7  5  7  6  7  8  3  5  6  7  6  7  6  9  5  5  6  8  4  7  7  6  7  5  7\n",
            "  4  6  7  5  8 10  5  6  6 10  7  4  2  5  7  5  5  6  4  8  5  8  5  9  8\n",
            "  7  6  4  5  7  7  5  8  5  2  8  5  5  7  5  4  6  4  6  5  6  6  3  6  5\n",
            "  5  3  5  7  5  7  6  9  4  4  6 10  6  5  8  6  6  6  7  6  7  5  5  5  8\n",
            "  7  5  6  9  5  6  5  8  7  7  8  7  7  8  5  5  8  5  6  7  5  6  8  5  7\n",
            "  9  5  7  2  7  7  6  9  7  4  7  7  5  3  4  8  5  5  6  8  4  4  8  7  6\n",
            "  4  5  3  6  5  5  5  5  8  6  6  5  5  6  6  4  3  4  7  6  6  6  3  6  7\n",
            "  7  8  5  3  8  8  7  7  6  8  3  4  9  6  7  7  7  5  4  7  7  4  7  7  6\n",
            "  6  7  5  4  5  7  7  6  6  9  3  7  7  5  3  6  8  7  7  6  3  4  5  2  4\n",
            "  8  7  7  6  5  6  6  3  8  4  7  8  7  6  4  7  6  6  6  6  4  6  6  8  8\n",
            "  5  7  4  4  6  8  8  8  8  7  6  6  6  8  6  5  8  7  7  7  8  5  7  6  7\n",
            "  6  5  7  3  3  8  8  7  7  6  7  4  5  5  7  8  6  5  6  7  5  6  6  6  7\n",
            "  8  8  3  7  6  6  7  3  4  5  4  4  5  7  6  4  5  7  3  4  7  6  4  4  7\n",
            "  5  5  5  6 10  7  6  4  5  6  7  8  7  8  6  6 10  8  5  6  4  6  6  5  7\n",
            "  7  6  8  8  4  6  5  5  7  7  7  6  3  9  4  7  7  9  7  4  5  8  9  7  4\n",
            "  7  6  3  7  5  5  9  6  6  4  5  4  5  4  3  7  4  7  6  7  6  4  5  8  6\n",
            "  5  4  7  7  5  5  6  4  6  6  5  3  9  7  6  5  7  8  4  5  8  8  8  8  5\n",
            "  6  6  5  7  7  9  7  4  4  7  7  3  4  8  6  2  9  6  6  6  5  4  8  8  5\n",
            "  8  7  5  5  5  8  7  5  7  9  6  3  8  8  8  9  5  5  8  6  9  6  5 10  8\n",
            "  3  4  7  6  8  7  5  7  8  9  7  8  6  5  6  6  8  6  5  7  5  5  5  7  5]\n"
          ],
          "name": "stdout"
        }
      ]
    },
    {
      "cell_type": "code",
      "metadata": {
        "id": "kvarZEo_K_HX",
        "colab_type": "code",
        "colab": {},
        "outputId": "28a07ea6-666d-4898-80c4-317bc43917c7"
      },
      "source": [
        "plt.hist(binomial, bins=11,range=(0,10) ,normed=True)\n",
        "plt.show()"
      ],
      "execution_count": null,
      "outputs": [
        {
          "output_type": "display_data",
          "data": {},
          "metadata": {
            "tags": []
          }
        }
      ]
    },
    {
      "cell_type": "code",
      "metadata": {
        "id": "UO3UIEtsK_Hh",
        "colab_type": "code",
        "colab": {},
        "outputId": "5d328b8c-f18d-4805-ebf8-2e06d77ce789"
      },
      "source": [
        "x=np.random.binomial(10,.5,(2,3))\n",
        "print(x)"
      ],
      "execution_count": null,
      "outputs": [
        {
          "output_type": "stream",
          "text": [
            "[[5 5 5]\n",
            " [7 2 6]]\n"
          ],
          "name": "stdout"
        }
      ]
    },
    {
      "cell_type": "code",
      "metadata": {
        "id": "8OZPW5a3K_Hn",
        "colab_type": "code",
        "colab": {}
      },
      "source": [
        ""
      ],
      "execution_count": null,
      "outputs": []
    },
    {
      "cell_type": "code",
      "metadata": {
        "id": "MS03zoNHK_Ht",
        "colab_type": "code",
        "colab": {}
      },
      "source": [
        "def f(x):\n",
        "    if float(x)<.2:\n",
        "        return 1\n",
        "    else:\n",
        "        return 0\n",
        "\n",
        "f_array = np.frompyfunc(f, 1, 1)\n"
      ],
      "execution_count": null,
      "outputs": []
    },
    {
      "cell_type": "code",
      "metadata": {
        "id": "y4ooJK7KK_Hx",
        "colab_type": "code",
        "colab": {},
        "outputId": "3cce89c9-88c5-4d06-e29d-f02ed71dfab2"
      },
      "source": [
        "print(f_array(z))"
      ],
      "execution_count": null,
      "outputs": [
        {
          "output_type": "stream",
          "text": [
            "[[0 1 0 ..., 0 0 0]\n",
            " [1 0 0 ..., 0 0 1]\n",
            " [0 1 1 ..., 0 0 0]\n",
            " ..., \n",
            " [0 0 0 ..., 1 0 0]\n",
            " [0 0 0 ..., 0 0 0]\n",
            " [0 0 0 ..., 0 0 0]]\n"
          ],
          "name": "stdout"
        }
      ]
    },
    {
      "cell_type": "code",
      "metadata": {
        "id": "Jgx6kifAK_H2",
        "colab_type": "code",
        "colab": {},
        "outputId": "cbdd2e83-ab3d-45ed-8acd-1bf91b512392"
      },
      "source": [
        "z=normal(size=100000)\n",
        "print(z[0])"
      ],
      "execution_count": null,
      "outputs": [
        {
          "output_type": "stream",
          "text": [
            "0.180867677114\n"
          ],
          "name": "stdout"
        }
      ]
    },
    {
      "cell_type": "code",
      "metadata": {
        "id": "gISkh1PpK_H-",
        "colab_type": "code",
        "colab": {}
      },
      "source": [
        "x=100+3*z"
      ],
      "execution_count": null,
      "outputs": []
    },
    {
      "cell_type": "code",
      "metadata": {
        "id": "XO6bI5RJK_ID",
        "colab_type": "code",
        "colab": {},
        "outputId": "134706cc-8294-4d14-f859-6d2881fb0dcd"
      },
      "source": [
        "n, bins, patches = plt.hist(x, 100, normed=True,facecolor='green',cumulative=False)\n",
        "plt.title(\"Histogramme d'une loi normale\")\n",
        "plt.xlabel(\"Valeur\")\n",
        "plt.ylabel(\"Frequence\")\n",
        "plt.show()"
      ],
      "execution_count": null,
      "outputs": [
        {
          "output_type": "display_data",
          "data": {},
          "metadata": {
            "tags": []
          }
        }
      ]
    },
    {
      "cell_type": "code",
      "metadata": {
        "id": "LmCiBENfK_II",
        "colab_type": "code",
        "colab": {},
        "outputId": "61d29336-753d-4e75-dbea-60e9d1ad9437"
      },
      "source": [
        "gaussian_numbers = normal(size=1000)\n",
        "uniform_numbers = uniform(low=-3, high=3, size=1000)\n",
        "plt.hist(gaussian_numbers, bins=20, normed=True, color='b', label='Gaussian')\n",
        "plt.hist(uniform_numbers, bins=20, normed=True, color='r', alpha=0.5, label='Uniform')\n",
        "plt.title(\"Gaussian/Uniform Histogram\")\n",
        "plt.xlabel(\"Value\")\n",
        "plt.ylabel(\"Probability\")\n",
        "plt.legend()\n",
        "plt.show()"
      ],
      "execution_count": null,
      "outputs": [
        {
          "output_type": "display_data",
          "data": {},
          "metadata": {
            "tags": []
          }
        }
      ]
    },
    {
      "cell_type": "markdown",
      "metadata": {
        "id": "sYf7hQ2dK_IQ",
        "colab_type": "text"
      },
      "source": [
        "Quelques exemples de nombres aléatoires\n",
        "=======================================\n",
        "\n",
        "[Ce lien vous permettra de voir la syntaxe des cellules de présentation](http://daringfireball.net/projects/markdown/basics)\n",
        "\n",
        "[Ce lien vous permettra de voir la doc de numpy.random](http://docs.scipy.org/doc/numpy/reference/routines.random.html)"
      ]
    },
    {
      "cell_type": "code",
      "metadata": {
        "id": "wzvlYW88K_IR",
        "colab_type": "code",
        "colab": {},
        "outputId": "49a71693-dab1-4ac2-ddae-cd57a405ffad"
      },
      "source": [
        "random.random()"
      ],
      "execution_count": null,
      "outputs": [
        {
          "output_type": "execute_result",
          "data": {},
          "metadata": {
            "tags": []
          },
          "execution_count": 27
        }
      ]
    },
    {
      "cell_type": "code",
      "metadata": {
        "id": "YyvjRlBeK_IZ",
        "colab_type": "code",
        "colab": {},
        "outputId": "09c43d1e-0352-4254-de80-ce60051cd6c2"
      },
      "source": [
        "random.uniform(1, 10)"
      ],
      "execution_count": null,
      "outputs": [
        {
          "output_type": "execute_result",
          "data": {},
          "metadata": {
            "tags": []
          },
          "execution_count": 28
        }
      ]
    },
    {
      "cell_type": "code",
      "metadata": {
        "id": "jIgMjOdtK_Ig",
        "colab_type": "code",
        "colab": {},
        "outputId": "64fc6474-c343-4349-8c3b-9cd71eb3e065"
      },
      "source": [
        "binom=random.binomial(10,.4,size=10000)\n",
        "plt.hist(binom, bins=110, normed=True, color='b', label='Loi binomiale n=10, p=0.4')\n",
        "plt.show()"
      ],
      "execution_count": null,
      "outputs": [
        {
          "output_type": "display_data",
          "data": {},
          "metadata": {
            "tags": []
          }
        }
      ]
    },
    {
      "cell_type": "code",
      "metadata": {
        "id": "Z8t23mTyK_Il",
        "colab_type": "code",
        "colab": {},
        "outputId": "62475b74-ac48-4754-8610-2f85bd668732"
      },
      "source": [
        "rayon = [1.0, 2.0, 3.0, 4.0, 5.0, 6.0]\n",
        "aire = [3.14159, 12.56636, 28.27431, 50.26544, 78.53975, 113.09724]\n",
        "airecarre = [1.0, 4.0, 9.0, 16.0, 25.0, 36.0]\n",
        "plt.plot(rayon, aire, label='Aire du disque')\n",
        "plt.plot(rayon, airecarre, marker='o', linestyle='--', color='r', label='aire du carre')\n",
        "plt.xlabel('Rayon ou coté')\n",
        "plt.ylabel('Aire')\n",
        "plt.title('Aire du disque ou du carré')\n",
        "plt.legend()\n",
        "plt.show()"
      ],
      "execution_count": null,
      "outputs": [
        {
          "output_type": "display_data",
          "data": {},
          "metadata": {
            "tags": []
          }
        }
      ]
    },
    {
      "cell_type": "markdown",
      "metadata": {
        "id": "cALUrzoBK_Ip",
        "colab_type": "text"
      },
      "source": [
        ""
      ]
    },
    {
      "cell_type": "code",
      "metadata": {
        "id": "FcJYYxd0K_Ip",
        "colab_type": "code",
        "colab": {},
        "outputId": "14378a02-4783-4f30-d128-199131bb6792"
      },
      "source": [
        "nombre=random_integers(1,100)\n",
        "guess=int(input(\"devine un nombre entre 1 et 100\")\n",
        "while nombre!=guess:\n",
        "    if nombre<guess:\n",
        "        print(\"trop petit\")\n",
        "    elif nombre>guess:\n",
        "        print(\"trop grand\")\n",
        "\n",
        "print(nombre)"
      ],
      "execution_count": null,
      "outputs": [
        {
          "output_type": "error",
          "ename": "SyntaxError",
          "evalue": "invalid syntax (<ipython-input-31-4b366f63cee9>, line 3)",
          "traceback": [
            "\u001b[1;36m  File \u001b[1;32m\"<ipython-input-31-4b366f63cee9>\"\u001b[1;36m, line \u001b[1;32m3\u001b[0m\n\u001b[1;33m    while nombre!=guess:\u001b[0m\n\u001b[1;37m        ^\u001b[0m\n\u001b[1;31mSyntaxError\u001b[0m\u001b[1;31m:\u001b[0m invalid syntax\n"
          ]
        }
      ]
    },
    {
      "cell_type": "markdown",
      "metadata": {
        "id": "sIxGcnXXK_Iy",
        "colab_type": "text"
      },
      "source": [
        "Intervalle de fluctuation\n",
        "========================="
      ]
    },
    {
      "cell_type": "code",
      "metadata": {
        "id": "PxbAhvo2K_Iy",
        "colab_type": "code",
        "colab": {}
      },
      "source": [
        "n=200\n",
        "p=.4\n",
        "nombreechant=1000\n",
        "borneplus=p+1/sqrt(n)\n",
        "bornemoins=p-1/sqrt(n)"
      ],
      "execution_count": null,
      "outputs": []
    },
    {
      "cell_type": "code",
      "metadata": {
        "id": "kx4kqcznK_I4",
        "colab_type": "code",
        "colab": {},
        "outputId": "bf785807-a454-4d7d-dd8c-b4b8514d3719"
      },
      "source": [
        "x=np.random.binomial(n,p,(1,nombreechant))\n",
        "x=x/n\n",
        "print(x)"
      ],
      "execution_count": null,
      "outputs": [
        {
          "output_type": "stream",
          "text": [
            "[[ 0.395  0.42   0.37   0.405  0.45   0.435  0.41   0.42   0.415  0.41\n",
            "   0.375  0.345  0.47   0.4    0.405  0.405  0.415  0.395  0.43   0.35\n",
            "   0.39   0.435  0.39   0.425  0.37   0.41   0.375  0.4    0.44   0.34\n",
            "   0.415  0.41   0.37   0.445  0.38   0.38   0.39   0.38   0.405  0.41\n",
            "   0.41   0.37   0.385  0.385  0.385  0.395  0.43   0.395  0.43   0.395\n",
            "   0.405  0.445  0.485  0.425  0.345  0.355  0.395  0.435  0.415  0.365\n",
            "   0.425  0.405  0.385  0.4    0.455  0.39   0.35   0.385  0.355  0.4    0.36\n",
            "   0.43   0.425  0.475  0.395  0.345  0.395  0.425  0.405  0.42   0.37   0.4\n",
            "   0.375  0.39   0.41   0.45   0.405  0.39   0.46   0.365  0.38   0.35\n",
            "   0.41   0.44   0.38   0.39   0.38   0.4    0.365  0.405  0.39   0.425\n",
            "   0.395  0.455  0.465  0.37   0.405  0.395  0.35   0.415  0.35   0.415\n",
            "   0.49   0.385  0.36   0.385  0.36   0.47   0.435  0.43   0.395  0.36\n",
            "   0.355  0.415  0.37   0.42   0.405  0.385  0.435  0.39   0.42   0.36\n",
            "   0.295  0.375  0.33   0.46   0.385  0.45   0.43   0.365  0.38   0.455\n",
            "   0.455  0.415  0.47   0.39   0.42   0.3    0.42   0.475  0.425  0.455\n",
            "   0.445  0.345  0.4    0.475  0.4    0.345  0.41   0.385  0.38   0.41\n",
            "   0.38   0.465  0.415  0.46   0.415  0.435  0.37   0.39   0.44   0.34\n",
            "   0.355  0.37   0.36   0.385  0.405  0.27   0.39   0.405  0.38   0.44\n",
            "   0.42   0.42   0.355  0.415  0.445  0.38   0.43   0.42   0.415  0.37\n",
            "   0.385  0.325  0.41   0.465  0.41   0.365  0.38   0.42   0.39   0.45\n",
            "   0.355  0.47   0.39   0.36   0.41   0.38   0.385  0.395  0.39   0.33\n",
            "   0.38   0.455  0.4    0.405  0.425  0.345  0.455  0.35   0.405  0.385\n",
            "   0.45   0.39   0.415  0.405  0.41   0.36   0.39   0.375  0.42   0.405\n",
            "   0.345  0.42   0.37   0.425  0.315  0.405  0.365  0.39   0.44   0.395\n",
            "   0.385  0.44   0.43   0.375  0.39   0.455  0.375  0.41   0.37   0.385\n",
            "   0.35   0.36   0.4    0.365  0.38   0.415  0.43   0.39   0.415  0.39\n",
            "   0.405  0.41   0.4    0.41   0.41   0.41   0.36   0.395  0.38   0.37\n",
            "   0.41   0.425  0.38   0.395  0.4    0.45   0.375  0.365  0.44   0.305\n",
            "   0.495  0.415  0.35   0.355  0.495  0.39   0.47   0.43   0.405  0.38\n",
            "   0.35   0.395  0.39   0.48   0.395  0.375  0.42   0.42   0.435  0.42\n",
            "   0.395  0.405  0.435  0.4    0.415  0.43   0.32   0.425  0.37   0.41\n",
            "   0.35   0.405  0.375  0.375  0.465  0.345  0.395  0.455  0.425  0.375\n",
            "   0.475  0.385  0.375  0.38   0.385  0.39   0.45   0.445  0.4    0.39\n",
            "   0.425  0.44   0.42   0.395  0.37   0.435  0.38   0.395  0.455  0.42   0.4\n",
            "   0.43   0.45   0.395  0.37   0.365  0.335  0.375  0.405  0.415  0.415\n",
            "   0.405  0.365  0.435  0.445  0.375  0.385  0.45   0.385  0.44   0.39\n",
            "   0.45   0.4    0.42   0.4    0.435  0.43   0.345  0.395  0.38   0.425\n",
            "   0.415  0.395  0.46   0.415  0.395  0.455  0.33   0.42   0.375  0.38\n",
            "   0.355  0.425  0.365  0.41   0.395  0.375  0.4    0.405  0.415  0.375\n",
            "   0.36   0.4    0.395  0.37   0.375  0.355  0.405  0.38   0.425  0.4    0.34\n",
            "   0.455  0.375  0.405  0.425  0.38   0.39   0.385  0.39   0.44   0.34\n",
            "   0.425  0.385  0.37   0.46   0.375  0.44   0.36   0.4    0.44   0.395\n",
            "   0.355  0.425  0.39   0.47   0.395  0.445  0.425  0.465  0.39   0.47   0.4\n",
            "   0.345  0.485  0.415  0.42   0.38   0.43   0.37   0.425  0.325  0.45\n",
            "   0.375  0.425  0.4    0.45   0.365  0.41   0.39   0.415  0.36   0.47\n",
            "   0.45   0.415  0.425  0.455  0.445  0.345  0.425  0.405  0.42   0.415\n",
            "   0.375  0.4    0.525  0.445  0.39   0.38   0.395  0.39   0.38   0.415\n",
            "   0.375  0.37   0.445  0.35   0.4    0.44   0.385  0.32   0.38   0.39\n",
            "   0.38   0.37   0.355  0.41   0.37   0.41   0.37   0.45   0.43   0.4\n",
            "   0.405  0.42   0.43   0.37   0.435  0.485  0.315  0.39   0.43   0.365\n",
            "   0.365  0.405  0.41   0.355  0.4    0.435  0.4    0.475  0.38   0.42\n",
            "   0.405  0.43   0.32   0.35   0.385  0.39   0.4    0.34   0.4    0.415\n",
            "   0.47   0.33   0.37   0.39   0.395  0.37   0.395  0.405  0.33   0.41\n",
            "   0.395  0.44   0.355  0.31   0.385  0.37   0.38   0.4    0.405  0.375\n",
            "   0.49   0.305  0.445  0.38   0.375  0.425  0.385  0.39   0.445  0.37\n",
            "   0.34   0.395  0.42   0.305  0.375  0.42   0.415  0.435  0.44   0.39\n",
            "   0.415  0.375  0.41   0.38   0.39   0.4    0.415  0.445  0.44   0.37\n",
            "   0.355  0.375  0.4    0.365  0.425  0.435  0.35   0.41   0.36   0.45\n",
            "   0.375  0.435  0.415  0.45   0.415  0.38   0.35   0.37   0.395  0.4\n",
            "   0.375  0.415  0.295  0.415  0.385  0.41   0.43   0.395  0.395  0.4\n",
            "   0.435  0.345  0.405  0.42   0.325  0.385  0.36   0.4    0.37   0.415\n",
            "   0.46   0.355  0.37   0.375  0.395  0.42   0.37   0.365  0.41   0.35\n",
            "   0.39   0.36   0.395  0.375  0.425  0.45   0.37   0.42   0.445  0.43\n",
            "   0.395  0.37   0.385  0.385  0.345  0.42   0.425  0.44   0.46   0.39\n",
            "   0.38   0.44   0.405  0.435  0.395  0.42   0.39   0.385  0.445  0.395\n",
            "   0.425  0.32   0.365  0.4    0.44   0.435  0.41   0.37   0.38   0.44\n",
            "   0.41   0.335  0.405  0.395  0.33   0.44   0.415  0.42   0.395  0.36\n",
            "   0.41   0.395  0.44   0.4    0.45   0.34   0.38   0.375  0.385  0.37   0.4\n",
            "   0.38   0.415  0.34   0.35   0.38   0.345  0.405  0.365  0.4    0.42\n",
            "   0.465  0.45   0.49   0.45   0.34   0.355  0.4    0.42   0.385  0.365\n",
            "   0.375  0.4    0.375  0.37   0.37   0.39   0.345  0.4    0.37   0.39\n",
            "   0.455  0.445  0.39   0.405  0.38   0.355  0.425  0.395  0.38   0.415\n",
            "   0.34   0.35   0.355  0.415  0.43   0.37   0.37   0.345  0.405  0.345\n",
            "   0.435  0.42   0.38   0.455  0.445  0.41   0.44   0.415  0.365  0.395\n",
            "   0.395  0.415  0.47   0.485  0.415  0.46   0.45   0.405  0.43   0.335\n",
            "   0.385  0.36   0.395  0.42   0.38   0.375  0.465  0.415  0.435  0.39\n",
            "   0.425  0.4    0.42   0.41   0.465  0.355  0.385  0.405  0.325  0.455\n",
            "   0.45   0.37   0.37   0.37   0.38   0.425  0.39   0.405  0.37   0.385\n",
            "   0.44   0.38   0.38   0.405  0.36   0.4    0.375  0.38   0.345  0.435\n",
            "   0.43   0.4    0.345  0.445  0.37   0.38   0.415  0.42   0.365  0.39\n",
            "   0.405  0.475  0.44   0.455  0.405  0.385  0.365  0.38   0.435  0.4    0.33\n",
            "   0.365  0.395  0.45   0.405  0.37   0.405  0.44   0.415  0.37   0.34\n",
            "   0.405  0.4    0.475  0.375  0.41   0.435  0.465  0.41   0.4    0.35\n",
            "   0.46   0.37   0.39   0.425  0.45   0.415  0.42   0.445  0.45   0.415\n",
            "   0.455  0.305  0.36   0.49   0.39   0.4    0.4    0.43   0.46   0.39\n",
            "   0.385  0.355  0.43   0.385  0.405  0.415  0.375  0.43   0.44   0.375\n",
            "   0.355  0.47   0.395  0.43   0.315  0.37   0.42   0.425  0.45   0.37\n",
            "   0.44   0.38   0.44   0.4    0.405  0.42   0.35   0.355  0.345  0.43\n",
            "   0.405  0.4    0.37   0.305  0.445  0.385  0.41   0.415  0.35   0.4\n",
            "   0.435  0.41   0.425  0.375  0.365  0.39   0.355  0.43   0.415  0.365\n",
            "   0.425  0.375  0.365  0.375  0.435  0.385  0.38   0.39   0.33   0.38\n",
            "   0.44   0.43   0.39   0.38   0.395  0.39   0.39   0.34   0.435  0.385\n",
            "   0.39   0.355  0.38   0.395  0.325  0.305  0.4    0.365  0.4    0.4\n",
            "   0.395  0.355  0.365  0.375  0.45   0.42   0.4    0.335  0.42   0.395\n",
            "   0.385  0.425  0.445  0.4    0.39   0.39   0.375  0.375  0.405  0.32\n",
            "   0.45   0.415  0.35   0.42   0.355  0.33   0.46   0.425  0.435  0.38\n",
            "   0.435  0.33   0.34   0.375  0.325  0.375  0.385  0.455  0.415  0.425\n",
            "   0.41   0.395  0.38   0.405  0.445  0.39   0.455  0.375  0.395  0.395\n",
            "   0.38   0.4    0.365  0.36   0.455  0.43   0.38   0.445  0.385  0.47\n",
            "   0.445  0.365  0.365]]\n"
          ],
          "name": "stdout"
        }
      ]
    },
    {
      "cell_type": "code",
      "metadata": {
        "id": "7oHTZJDPK_JB",
        "colab_type": "code",
        "colab": {},
        "outputId": "81c614fc-b654-438c-ae38-7d77d6818746"
      },
      "source": [
        "danslesbornesplus=np.where(x<borneplus, 1, 0) \n",
        "danslesbornesmoins=np.where(x>bornemoins, 1, 0) \n",
        "danslesbornes=danslesbornesplus*danslesbornesmoins\n",
        "print(danslesbornes)\n",
        "binomial=danslesbornes.sum(1)\n",
        "print(\"On a\", binomial[0], \" echantillons dont la fréquence est dans l'intervalle de fluctuation sur les \", nombreechant , \" soit une proportion de \",binomial[0]/nombreechant*100,\"%\") "
      ],
      "execution_count": null,
      "outputs": [
        {
          "output_type": "stream",
          "text": [
            "[[1 1 1 1 1 1 1 1 1 1 1 1 1 1 1 1 1 1 1 1 1 1 1 1 1 1 1 1 1 1 1 1 1 1 1 1 1\n",
            "  1 1 1 1 1 1 1 1 1 1 1 1 1 1 1 0 1 1 1 1 1 1 1 1 1 1 1 1 1 1 1 1 1 1 1 1 0\n",
            "  1 1 1 1 1 1 1 1 1 1 1 1 1 1 1 1 1 1 1 1 1 1 1 1 1 1 1 1 1 1 1 1 1 1 1 1 1\n",
            "  1 0 1 1 1 1 1 1 1 1 1 1 1 1 1 1 1 1 1 1 1 0 1 1 1 1 1 1 1 1 1 1 1 1 1 1 0\n",
            "  1 0 1 1 1 1 1 0 1 1 1 1 1 1 1 1 1 1 1 1 1 1 1 1 1 1 1 1 1 0 1 1 1 1 1 1 1\n",
            "  1 1 1 1 1 1 1 1 0 1 1 1 1 1 1 1 1 1 1 1 1 1 1 1 1 1 1 1 1 1 1 1 1 1 1 1 1\n",
            "  1 1 1 1 1 1 1 1 1 1 1 1 1 1 0 1 1 1 1 1 1 1 1 1 1 1 1 1 1 1 1 1 1 1 1 1 1\n",
            "  1 1 1 1 1 1 1 1 1 1 1 1 1 1 1 1 1 1 1 1 1 1 0 0 1 1 1 0 1 1 1 1 1 1 1 1 0\n",
            "  1 1 1 1 1 1 1 1 1 1 1 1 0 1 1 1 1 1 1 1 1 1 1 1 1 1 0 1 1 1 1 1 1 1 1 1 1\n",
            "  1 1 1 1 1 1 1 1 1 1 1 1 1 1 1 1 1 1 1 1 1 1 1 1 1 1 1 1 1 1 1 1 1 1 1 1 1\n",
            "  1 1 1 1 1 1 1 1 1 1 1 1 1 1 1 1 1 1 1 1 1 1 1 1 1 1 1 1 1 1 1 1 1 1 1 1 1\n",
            "  1 1 1 1 1 1 1 1 1 1 1 1 1 1 1 1 1 1 1 1 1 1 1 1 1 1 1 1 1 0 1 1 1 1 1 1 0\n",
            "  1 1 1 1 1 1 1 1 1 1 1 1 1 1 1 1 1 1 1 1 1 1 1 0 1 1 1 1 1 1 1 1 1 1 1 1 1\n",
            "  1 0 1 1 1 1 1 1 1 1 1 1 1 1 1 1 1 1 1 0 0 1 1 1 1 1 1 1 1 1 1 0 1 1 1 1 0\n",
            "  1 1 1 1 1 1 1 1 1 1 1 1 1 1 1 1 1 1 1 1 0 1 1 1 1 1 1 0 0 1 1 1 1 1 1 1 1\n",
            "  1 1 1 0 1 1 1 1 1 1 1 1 1 1 1 1 1 1 1 1 1 1 1 1 1 1 1 1 1 1 1 1 1 1 1 1 1\n",
            "  1 1 1 1 1 0 1 1 1 1 1 1 1 1 1 1 1 0 1 1 1 1 1 1 1 1 1 1 1 1 1 1 1 1 1 1 1\n",
            "  1 1 1 1 1 1 1 1 1 1 1 1 1 1 1 1 1 1 1 1 1 1 1 1 1 1 1 0 1 1 1 1 1 1 1 1 1\n",
            "  1 1 1 1 1 1 1 1 1 1 1 1 1 1 1 1 1 1 1 1 1 1 1 1 1 1 1 1 1 1 1 1 0 1 1 1 1\n",
            "  1 1 1 1 1 1 1 1 1 1 1 1 1 1 1 1 1 1 1 1 1 1 1 1 1 1 1 1 1 1 1 1 1 1 1 1 1\n",
            "  1 1 1 1 1 1 1 1 1 0 1 1 1 1 1 1 1 1 1 1 1 1 1 1 1 1 1 1 1 1 1 1 1 1 0 1 1\n",
            "  1 1 1 1 1 1 1 1 1 1 1 1 1 1 1 1 1 1 1 1 1 1 1 1 1 1 1 1 1 1 0 1 1 1 1 1 1\n",
            "  1 1 1 1 1 1 1 1 1 1 1 1 1 1 1 0 1 1 1 1 1 1 1 1 1 1 1 1 1 1 1 1 1 1 0 1 0\n",
            "  1 1 1 1 1 1 1 1 1 1 1 1 1 1 1 1 1 1 1 1 0 1 1 1 1 1 1 1 1 1 1 1 1 1 1 1 1\n",
            "  1 1 0 1 1 1 1 1 1 1 1 1 1 1 1 1 1 1 1 1 1 1 1 1 1 1 1 1 1 1 1 1 1 1 1 1 1\n",
            "  1 1 1 1 1 1 0 0 1 1 1 1 1 1 1 1 1 1 1 1 1 1 1 1 1 1 1 1 1 1 1 0 1 1 1 1 1\n",
            "  1 1 1 1 1 1 1 1 1 0 1 1 1 1 1 1 1 1 1 1 1 1 1 1 1 1 1 1 1 1 1 1 1 1 1 1 1\n",
            "  1]]\n",
            "On a 956  echantillons dont la fréquence est dans l'intervalle de fluctuation sur les  1000  soit une proportion de  95.6 %\n"
          ],
          "name": "stdout"
        }
      ]
    },
    {
      "cell_type": "code",
      "metadata": {
        "id": "MpVJjG2DK_JL",
        "colab_type": "code",
        "colab": {},
        "outputId": "1271bafc-56f3-437c-f3e7-5d428fb17d62"
      },
      "source": [
        "y=numpy.linspace(0, 10, num=nombreechant)\n",
        "plt.scatter(y,x, alpha=0.5)\n",
        "linex=[-2,12]\n",
        "lineproba=[p,p]\n",
        "lineprobaPlus=[p+1/sqrt(n),p+1/sqrt(n)]\n",
        "lineprobaMoins=[p-1/sqrt(n),p-1/sqrt(n)]\n",
        "\n",
        "\n",
        "plt.plot(linex,lineproba,color=\"red\", linewidth=3)\n",
        "plt.plot(linex,lineprobaPlus)\n",
        "plt.plot(linex,lineprobaMoins)\n",
        "plt.show()"
      ],
      "execution_count": null,
      "outputs": [
        {
          "output_type": "display_data",
          "data": {},
          "metadata": {
            "tags": []
          }
        }
      ]
    },
    {
      "cell_type": "code",
      "metadata": {
        "id": "QXmD0Yg5K_JS",
        "colab_type": "code",
        "colab": {}
      },
      "source": [
        ""
      ],
      "execution_count": null,
      "outputs": []
    }
  ]
}