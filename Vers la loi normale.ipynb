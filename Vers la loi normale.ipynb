{
 "metadata": {
  "name": "",
  "signature": "sha256:1758a59b0bb52c7c22b138256535e2615b9a8391e3eb228db88493fec3541d73"
 },
 "nbformat": 3,
 "nbformat_minor": 0,
 "worksheets": [
  {
   "cells": [
    {
     "cell_type": "code",
     "collapsed": false,
     "input": [
      "import numpy as np\n",
      "import matplotlib.mlab as mlab\n",
      "import matplotlib.pyplot as plt\n",
      "%pylab inline"
     ],
     "language": "python",
     "metadata": {},
     "outputs": [
      {
       "output_type": "stream",
       "stream": "stdout",
       "text": [
        "Populating the interactive namespace from numpy and matplotlib\n"
       ]
      },
      {
       "output_type": "stream",
       "stream": "stderr",
       "text": [
        "WARNING: pylab import has clobbered these variables: ['binomial']\n",
        "`%matplotlib` prevents importing * from pylab and numpy\n"
       ]
      }
     ],
     "prompt_number": 14
    },
    {
     "cell_type": "heading",
     "level": 2,
     "metadata": {},
     "source": [
      "Commen\u00e7ons par g\u00e9n\u00e9rer des nombres al\u00e9atoires"
     ]
    },
    {
     "cell_type": "code",
     "collapsed": false,
     "input": [
      "z=np.random.rand(1000,10)\n",
      "print(z)"
     ],
     "language": "python",
     "metadata": {},
     "outputs": [
      {
       "output_type": "stream",
       "stream": "stdout",
       "text": [
        "[[ 0.78497095  0.15569582  0.59501947 ...,  0.40022362  0.26293586\n",
        "   0.51217981]\n",
        " [ 0.15583991  0.28809307  0.42157498 ...,  0.79209862  0.60940832\n",
        "   0.19363228]\n",
        " [ 0.9692586   0.19128943  0.11673744 ...,  0.98867676  0.29809063\n",
        "   0.56843667]\n",
        " ..., \n",
        " [ 0.71738303  0.86196057  0.20215552 ...,  0.08833081  0.22664564\n",
        "   0.94207272]\n",
        " [ 0.50355114  0.69982947  0.90662392 ...,  0.93849406  0.2891648\n",
        "   0.94995524]\n",
        " [ 0.20256335  0.21158958  0.73645496 ...,  0.28790454  0.31001441\n",
        "   0.53532626]]\n"
       ]
      }
     ],
     "prompt_number": 15
    },
    {
     "cell_type": "heading",
     "level": 2,
     "metadata": {},
     "source": [
      "Puis G\u00e9n\u00e9rons des succ\u00e8s de proba 0.8"
     ]
    },
    {
     "cell_type": "code",
     "collapsed": false,
     "input": [
      "succes=np.where(z > 0.4, 1, 0) \n",
      "print(succes)"
     ],
     "language": "python",
     "metadata": {},
     "outputs": [
      {
       "output_type": "stream",
       "stream": "stdout",
       "text": [
        "[[1 0 1 ..., 1 0 1]\n",
        " [0 0 1 ..., 1 1 0]\n",
        " [1 0 0 ..., 1 0 1]\n",
        " ..., \n",
        " [1 1 0 ..., 0 0 1]\n",
        " [1 1 1 ..., 1 0 1]\n",
        " [0 0 1 ..., 0 0 1]]\n"
       ]
      }
     ],
     "prompt_number": 16
    },
    {
     "cell_type": "heading",
     "level": 2,
     "metadata": {},
     "source": [
      "Comptons le nombre de succ\u00e8s r\u00e9alis\u00e9s en 10 \u00e9preuves "
     ]
    },
    {
     "cell_type": "code",
     "collapsed": false,
     "input": [
      "binomial=succes.sum(1)\n",
      "print(binomial)"
     ],
     "language": "python",
     "metadata": {},
     "outputs": [
      {
       "output_type": "stream",
       "stream": "stdout",
       "text": [
        "[ 7  6  7  6  6  7  7  4  4  7  8  7  8  7  5  4  6  6  5  5  8  5  4  1  7\n",
        "  7  5  5  6  6  7  8  5  6  6  7  6  6  7  5  6  6  7  9  6  5  6  7  6  6\n",
        "  8  5  4  5  8  4  7  6  8  6  5  8  7  6  7  7  4  4  8  6  6  6  7  7  4\n",
        "  6  6  5  4  7  7  6  5  6  5  6  3  7  7  5  6  8  7  8  7  8  9  8  3  8\n",
        "  5  6  4  6  3  6  7  4  8  6  8  3  7  4  2  6  8  6  3  5  5  6  6  5  5\n",
        "  7  5  8  5  7  8  5  6  5  7  9  7  5  5  7  5  4  4  3  7  5  8  7  4  4\n",
        "  6  6  5  3  5  8  3  4  3  7  6  8  5  6  5  5  6  6  4  4  5  7  8  6  8\n",
        "  7  7  9  3  5  5  5  5  7  5  4  3  6  6  7  5  8  6  8  4  8  7  9  6  6\n",
        "  5  5 10  8  5  6  3  6  7  7  4  6  7  7  6  5  5  7  8  4  7  5  7  7  3\n",
        "  7  4  6  6  8  9  8  4  4  9  8  5  8  7 10  8  7  7  7  6  7  8  8  7  4\n",
        "  9  9  7  8  8  4  5  3  5  8  6  5  7  7  8  5  6  7  4  6  6  4  4  4  3\n",
        "  7  7  7  7  6  5  7  7  5  5  5  6  4  5  4  6  7  5  4  8  6  4  7  5  6\n",
        "  4  7  9  6  3  5  5  7  5  5  6  7  5  4  6  5  7  6  6  5  6  4  4  5  2\n",
        "  7  5  5  6  7  7  4  8  5  5  4  2  4  7  3  5  5  6  6  5  6  6  7  5  4\n",
        "  4  4  5  9  7  9  7  7  5  4  5  7  8  4  5  3  5  5  5  4  4  7  5  4  5\n",
        "  5  5  3  5  9  5  7  7  8  4  5  2  5  8  3  7  7  4  5  7  7  8  4  5  4\n",
        "  6  6  7  7  6  6  6  7  4  8  6  4  7  8  8  5  6  4  6  4  5  8  7  5  6\n",
        "  4  6  8  8  5  9  4  6  4  5  5  5  8  8  7  6  8  3  8  7  8  5  7  5  7\n",
        "  7  8  6  7  8  6  4  5  7  6  8  6  5  5  9  8  5  4  7  5  3  4  5  6  7\n",
        "  6  8  9  5  7  9  6  6  6  5  6  8  6  6  2  7  7  7  8  4  7  6  6  5  7\n",
        "  7  5  7  6  7  8  3  5  6  7  6  7  6  9  5  5  6  8  4  7  7  6  7  5  7\n",
        "  4  6  7  5  8 10  5  6  6 10  7  4  2  5  7  5  5  6  4  8  5  8  5  9  8\n",
        "  7  6  4  5  7  7  5  8  5  2  8  5  5  7  5  4  6  4  6  5  6  6  3  6  5\n",
        "  5  3  5  7  5  7  6  9  4  4  6 10  6  5  8  6  6  6  7  6  7  5  5  5  8\n",
        "  7  5  6  9  5  6  5  8  7  7  8  7  7  8  5  5  8  5  6  7  5  6  8  5  7\n",
        "  9  5  7  2  7  7  6  9  7  4  7  7  5  3  4  8  5  5  6  8  4  4  8  7  6\n",
        "  4  5  3  6  5  5  5  5  8  6  6  5  5  6  6  4  3  4  7  6  6  6  3  6  7\n",
        "  7  8  5  3  8  8  7  7  6  8  3  4  9  6  7  7  7  5  4  7  7  4  7  7  6\n",
        "  6  7  5  4  5  7  7  6  6  9  3  7  7  5  3  6  8  7  7  6  3  4  5  2  4\n",
        "  8  7  7  6  5  6  6  3  8  4  7  8  7  6  4  7  6  6  6  6  4  6  6  8  8\n",
        "  5  7  4  4  6  8  8  8  8  7  6  6  6  8  6  5  8  7  7  7  8  5  7  6  7\n",
        "  6  5  7  3  3  8  8  7  7  6  7  4  5  5  7  8  6  5  6  7  5  6  6  6  7\n",
        "  8  8  3  7  6  6  7  3  4  5  4  4  5  7  6  4  5  7  3  4  7  6  4  4  7\n",
        "  5  5  5  6 10  7  6  4  5  6  7  8  7  8  6  6 10  8  5  6  4  6  6  5  7\n",
        "  7  6  8  8  4  6  5  5  7  7  7  6  3  9  4  7  7  9  7  4  5  8  9  7  4\n",
        "  7  6  3  7  5  5  9  6  6  4  5  4  5  4  3  7  4  7  6  7  6  4  5  8  6\n",
        "  5  4  7  7  5  5  6  4  6  6  5  3  9  7  6  5  7  8  4  5  8  8  8  8  5\n",
        "  6  6  5  7  7  9  7  4  4  7  7  3  4  8  6  2  9  6  6  6  5  4  8  8  5\n",
        "  8  7  5  5  5  8  7  5  7  9  6  3  8  8  8  9  5  5  8  6  9  6  5 10  8\n",
        "  3  4  7  6  8  7  5  7  8  9  7  8  6  5  6  6  8  6  5  7  5  5  5  7  5]\n"
       ]
      }
     ],
     "prompt_number": 17
    },
    {
     "cell_type": "code",
     "collapsed": false,
     "input": [
      "plt.hist(binomial, bins=11,range=(0,10) ,normed=True)\n",
      "plt.show()"
     ],
     "language": "python",
     "metadata": {},
     "outputs": [
      {
       "metadata": {},
       "output_type": "display_data",
       "png": "[encoded data removed]",
       "text": [
        "<matplotlib.figure.Figure at 0x4df52b0>"
       ]
      }
     ],
     "prompt_number": 18
    },
    {
     "cell_type": "code",
     "collapsed": false,
     "input": [
      "x=np.random.binomial(10,.5,(2,3))\n",
      "print(x)"
     ],
     "language": "python",
     "metadata": {},
     "outputs": [
      {
       "output_type": "stream",
       "stream": "stdout",
       "text": [
        "[[5 5 5]\n",
        " [7 2 6]]\n"
       ]
      }
     ],
     "prompt_number": 19
    },
    {
     "cell_type": "code",
     "collapsed": false,
     "input": [],
     "language": "python",
     "metadata": {},
     "outputs": [],
     "prompt_number": 19
    },
    {
     "cell_type": "code",
     "collapsed": false,
     "input": [
      "def f(x):\n",
      "    if float(x)<.2:\n",
      "        return 1\n",
      "    else:\n",
      "        return 0\n",
      "\n",
      "f_array = np.frompyfunc(f, 1, 1)\n"
     ],
     "language": "python",
     "metadata": {},
     "outputs": [],
     "prompt_number": 20
    },
    {
     "cell_type": "code",
     "collapsed": false,
     "input": [
      "print(f_array(z))"
     ],
     "language": "python",
     "metadata": {},
     "outputs": [
      {
       "output_type": "stream",
       "stream": "stdout",
       "text": [
        "[[0 1 0 ..., 0 0 0]\n",
        " [1 0 0 ..., 0 0 1]\n",
        " [0 1 1 ..., 0 0 0]\n",
        " ..., \n",
        " [0 0 0 ..., 1 0 0]\n",
        " [0 0 0 ..., 0 0 0]\n",
        " [0 0 0 ..., 0 0 0]]\n"
       ]
      }
     ],
     "prompt_number": 21
    },
    {
     "cell_type": "code",
     "collapsed": false,
     "input": [
      "z=normal(size=100000)\n",
      "print(z[0])"
     ],
     "language": "python",
     "metadata": {},
     "outputs": [
      {
       "output_type": "stream",
       "stream": "stdout",
       "text": [
        "0.180867677114\n"
       ]
      }
     ],
     "prompt_number": 37
    },
    {
     "cell_type": "code",
     "collapsed": false,
     "input": [
      "x=100+3*z"
     ],
     "language": "python",
     "metadata": {},
     "outputs": [],
     "prompt_number": 38
    },
    {
     "cell_type": "code",
     "collapsed": false,
     "input": [
      "n, bins, patches = plt.hist(x, 100, normed=True,facecolor='green',cumulative=False)\n",
      "plt.title(\"Histogramme d'une loi normale\")\n",
      "plt.xlabel(\"Valeur\")\n",
      "plt.ylabel(\"Frequence\")\n",
      "plt.show()"
     ],
     "language": "python",
     "metadata": {},
     "outputs": [
      {
       "metadata": {},
       "output_type": "display_data",
       "png": "[encoded data removed]",
       "text": [
        "<matplotlib.figure.Figure at 0x72904e0>"
       ]
      }
     ],
     "prompt_number": 39
    },
    {
     "cell_type": "code",
     "collapsed": false,
     "input": [
      "gaussian_numbers = normal(size=1000)\n",
      "uniform_numbers = uniform(low=-3, high=3, size=1000)\n",
      "plt.hist(gaussian_numbers, bins=20, normed=True, color='b', label='Gaussian')\n",
      "plt.hist(uniform_numbers, bins=20, normed=True, color='r', alpha=0.5, label='Uniform')\n",
      "plt.title(\"Gaussian/Uniform Histogram\")\n",
      "plt.xlabel(\"Value\")\n",
      "plt.ylabel(\"Probability\")\n",
      "plt.legend()\n",
      "plt.show()"
     ],
     "language": "python",
     "metadata": {},
     "outputs": [
      {
       "metadata": {},
       "output_type": "display_data",
       "png": "[encoded data removed]",
       "text": [
        "<matplotlib.figure.Figure at 0x6c36908>"
       ]
      }
     ],
     "prompt_number": 26
    },
    {
     "cell_type": "markdown",
     "metadata": {},
     "source": [
      "Quelques exemples de nombres al\u00e9atoires\n",
      "=======================================\n",
      "\n",
      "[Ce lien vous permettra de voir la syntaxe des cellules de pr\u00e9sentation](http://daringfireball.net/projects/markdown/basics)\n",
      "\n",
      "[Ce lien vous permettra de voir la doc de numpy.random](http://docs.scipy.org/doc/numpy/reference/routines.random.html)"
     ]
    },
    {
     "cell_type": "code",
     "collapsed": false,
     "input": [
      "random.random()"
     ],
     "language": "python",
     "metadata": {},
     "outputs": [
      {
       "metadata": {},
       "output_type": "pyout",
       "prompt_number": 27,
       "text": [
        "0.11410342566358744"
       ]
      }
     ],
     "prompt_number": 27
    },
    {
     "cell_type": "code",
     "collapsed": false,
     "input": [
      "random.uniform(1, 10)"
     ],
     "language": "python",
     "metadata": {},
     "outputs": [
      {
       "metadata": {},
       "output_type": "pyout",
       "prompt_number": 28,
       "text": [
        "7.740681518919888"
       ]
      }
     ],
     "prompt_number": 28
    },
    {
     "cell_type": "code",
     "collapsed": false,
     "input": [
      "binom=random.binomial(10,.4,size=10000)\n",
      "plt.hist(binom, bins=110, normed=True, color='b', label='Loi binomiale n=10, p=0.4')\n",
      "plt.show()"
     ],
     "language": "python",
     "metadata": {},
     "outputs": [
      {
       "metadata": {},
       "output_type": "display_data",
       "png": "[encoded data removed]",
       "text": [
        "<matplotlib.figure.Figure at 0x73992e8>"
       ]
      }
     ],
     "prompt_number": 29
    },
    {
     "cell_type": "code",
     "collapsed": false,
     "input": [
      "rayon = [1.0, 2.0, 3.0, 4.0, 5.0, 6.0]\n",
      "aire = [3.14159, 12.56636, 28.27431, 50.26544, 78.53975, 113.09724]\n",
      "airecarre = [1.0, 4.0, 9.0, 16.0, 25.0, 36.0]\n",
      "plt.plot(rayon, aire, label='Aire du disque')\n",
      "plt.plot(rayon, airecarre, marker='o', linestyle='--', color='r', label='aire du carre')\n",
      "plt.xlabel('Rayon ou cot\u00e9')\n",
      "plt.ylabel('Aire')\n",
      "plt.title('Aire du disque ou du carr\u00e9')\n",
      "plt.legend()\n",
      "plt.show()"
     ],
     "language": "python",
     "metadata": {},
     "outputs": [
      {
       "metadata": {},
       "output_type": "display_data",
       "png": "[encoded data removed]",
       "text": [
        "<matplotlib.figure.Figure at 0x9169080>"
       ]
      }
     ],
     "prompt_number": 30
    },
    {
     "cell_type": "markdown",
     "metadata": {},
     "source": []
    },
    {
     "cell_type": "code",
     "collapsed": false,
     "input": [
      "nombre=random_integers(1,100)\n",
      "guess=int(input(\"devine un nombre entre 1 et 100\")\n",
      "while nombre!=guess:\n",
      "    if nombre<guess:\n",
      "        print(\"trop petit\")\n",
      "    elif nombre>guess:\n",
      "        print(\"trop grand\")\n",
      "\n",
      "print(nombre)"
     ],
     "language": "python",
     "metadata": {},
     "outputs": [
      {
       "ename": "SyntaxError",
       "evalue": "invalid syntax (<ipython-input-31-4b366f63cee9>, line 3)",
       "output_type": "pyerr",
       "traceback": [
        "\u001b[1;36m  File \u001b[1;32m\"<ipython-input-31-4b366f63cee9>\"\u001b[1;36m, line \u001b[1;32m3\u001b[0m\n\u001b[1;33m    while nombre!=guess:\u001b[0m\n\u001b[1;37m        ^\u001b[0m\n\u001b[1;31mSyntaxError\u001b[0m\u001b[1;31m:\u001b[0m invalid syntax\n"
       ]
      }
     ],
     "prompt_number": 31
    },
    {
     "cell_type": "markdown",
     "metadata": {},
     "source": [
      "Intervalle de fluctuation\n",
      "========================="
     ]
    },
    {
     "cell_type": "code",
     "collapsed": false,
     "input": [
      "n=200\n",
      "p=.4\n",
      "nombreechant=1000\n",
      "borneplus=p+1/sqrt(n)\n",
      "bornemoins=p-1/sqrt(n)"
     ],
     "language": "python",
     "metadata": {},
     "outputs": [],
     "prompt_number": 70
    },
    {
     "cell_type": "code",
     "collapsed": false,
     "input": [
      "x=np.random.binomial(n,p,(1,nombreechant))\n",
      "x=x/n\n",
      "print(x)"
     ],
     "language": "python",
     "metadata": {},
     "outputs": [
      {
       "output_type": "stream",
       "stream": "stdout",
       "text": [
        "[[ 0.395  0.42   0.37   0.405  0.45   0.435  0.41   0.42   0.415  0.41\n",
        "   0.375  0.345  0.47   0.4    0.405  0.405  0.415  0.395  0.43   0.35\n",
        "   0.39   0.435  0.39   0.425  0.37   0.41   0.375  0.4    0.44   0.34\n",
        "   0.415  0.41   0.37   0.445  0.38   0.38   0.39   0.38   0.405  0.41\n",
        "   0.41   0.37   0.385  0.385  0.385  0.395  0.43   0.395  0.43   0.395\n",
        "   0.405  0.445  0.485  0.425  0.345  0.355  0.395  0.435  0.415  0.365\n",
        "   0.425  0.405  0.385  0.4    0.455  0.39   0.35   0.385  0.355  0.4    0.36\n",
        "   0.43   0.425  0.475  0.395  0.345  0.395  0.425  0.405  0.42   0.37   0.4\n",
        "   0.375  0.39   0.41   0.45   0.405  0.39   0.46   0.365  0.38   0.35\n",
        "   0.41   0.44   0.38   0.39   0.38   0.4    0.365  0.405  0.39   0.425\n",
        "   0.395  0.455  0.465  0.37   0.405  0.395  0.35   0.415  0.35   0.415\n",
        "   0.49   0.385  0.36   0.385  0.36   0.47   0.435  0.43   0.395  0.36\n",
        "   0.355  0.415  0.37   0.42   0.405  0.385  0.435  0.39   0.42   0.36\n",
        "   0.295  0.375  0.33   0.46   0.385  0.45   0.43   0.365  0.38   0.455\n",
        "   0.455  0.415  0.47   0.39   0.42   0.3    0.42   0.475  0.425  0.455\n",
        "   0.445  0.345  0.4    0.475  0.4    0.345  0.41   0.385  0.38   0.41\n",
        "   0.38   0.465  0.415  0.46   0.415  0.435  0.37   0.39   0.44   0.34\n",
        "   0.355  0.37   0.36   0.385  0.405  0.27   0.39   0.405  0.38   0.44\n",
        "   0.42   0.42   0.355  0.415  0.445  0.38   0.43   0.42   0.415  0.37\n",
        "   0.385  0.325  0.41   0.465  0.41   0.365  0.38   0.42   0.39   0.45\n",
        "   0.355  0.47   0.39   0.36   0.41   0.38   0.385  0.395  0.39   0.33\n",
        "   0.38   0.455  0.4    0.405  0.425  0.345  0.455  0.35   0.405  0.385\n",
        "   0.45   0.39   0.415  0.405  0.41   0.36   0.39   0.375  0.42   0.405\n",
        "   0.345  0.42   0.37   0.425  0.315  0.405  0.365  0.39   0.44   0.395\n",
        "   0.385  0.44   0.43   0.375  0.39   0.455  0.375  0.41   0.37   0.385\n",
        "   0.35   0.36   0.4    0.365  0.38   0.415  0.43   0.39   0.415  0.39\n",
        "   0.405  0.41   0.4    0.41   0.41   0.41   0.36   0.395  0.38   0.37\n",
        "   0.41   0.425  0.38   0.395  0.4    0.45   0.375  0.365  0.44   0.305\n",
        "   0.495  0.415  0.35   0.355  0.495  0.39   0.47   0.43   0.405  0.38\n",
        "   0.35   0.395  0.39   0.48   0.395  0.375  0.42   0.42   0.435  0.42\n",
        "   0.395  0.405  0.435  0.4    0.415  0.43   0.32   0.425  0.37   0.41\n",
        "   0.35   0.405  0.375  0.375  0.465  0.345  0.395  0.455  0.425  0.375\n",
        "   0.475  0.385  0.375  0.38   0.385  0.39   0.45   0.445  0.4    0.39\n",
        "   0.425  0.44   0.42   0.395  0.37   0.435  0.38   0.395  0.455  0.42   0.4\n",
        "   0.43   0.45   0.395  0.37   0.365  0.335  0.375  0.405  0.415  0.415\n",
        "   0.405  0.365  0.435  0.445  0.375  0.385  0.45   0.385  0.44   0.39\n",
        "   0.45   0.4    0.42   0.4    0.435  0.43   0.345  0.395  0.38   0.425\n",
        "   0.415  0.395  0.46   0.415  0.395  0.455  0.33   0.42   0.375  0.38\n",
        "   0.355  0.425  0.365  0.41   0.395  0.375  0.4    0.405  0.415  0.375\n",
        "   0.36   0.4    0.395  0.37   0.375  0.355  0.405  0.38   0.425  0.4    0.34\n",
        "   0.455  0.375  0.405  0.425  0.38   0.39   0.385  0.39   0.44   0.34\n",
        "   0.425  0.385  0.37   0.46   0.375  0.44   0.36   0.4    0.44   0.395\n",
        "   0.355  0.425  0.39   0.47   0.395  0.445  0.425  0.465  0.39   0.47   0.4\n",
        "   0.345  0.485  0.415  0.42   0.38   0.43   0.37   0.425  0.325  0.45\n",
        "   0.375  0.425  0.4    0.45   0.365  0.41   0.39   0.415  0.36   0.47\n",
        "   0.45   0.415  0.425  0.455  0.445  0.345  0.425  0.405  0.42   0.415\n",
        "   0.375  0.4    0.525  0.445  0.39   0.38   0.395  0.39   0.38   0.415\n",
        "   0.375  0.37   0.445  0.35   0.4    0.44   0.385  0.32   0.38   0.39\n",
        "   0.38   0.37   0.355  0.41   0.37   0.41   0.37   0.45   0.43   0.4\n",
        "   0.405  0.42   0.43   0.37   0.435  0.485  0.315  0.39   0.43   0.365\n",
        "   0.365  0.405  0.41   0.355  0.4    0.435  0.4    0.475  0.38   0.42\n",
        "   0.405  0.43   0.32   0.35   0.385  0.39   0.4    0.34   0.4    0.415\n",
        "   0.47   0.33   0.37   0.39   0.395  0.37   0.395  0.405  0.33   0.41\n",
        "   0.395  0.44   0.355  0.31   0.385  0.37   0.38   0.4    0.405  0.375\n",
        "   0.49   0.305  0.445  0.38   0.375  0.425  0.385  0.39   0.445  0.37\n",
        "   0.34   0.395  0.42   0.305  0.375  0.42   0.415  0.435  0.44   0.39\n",
        "   0.415  0.375  0.41   0.38   0.39   0.4    0.415  0.445  0.44   0.37\n",
        "   0.355  0.375  0.4    0.365  0.425  0.435  0.35   0.41   0.36   0.45\n",
        "   0.375  0.435  0.415  0.45   0.415  0.38   0.35   0.37   0.395  0.4\n",
        "   0.375  0.415  0.295  0.415  0.385  0.41   0.43   0.395  0.395  0.4\n",
        "   0.435  0.345  0.405  0.42   0.325  0.385  0.36   0.4    0.37   0.415\n",
        "   0.46   0.355  0.37   0.375  0.395  0.42   0.37   0.365  0.41   0.35\n",
        "   0.39   0.36   0.395  0.375  0.425  0.45   0.37   0.42   0.445  0.43\n",
        "   0.395  0.37   0.385  0.385  0.345  0.42   0.425  0.44   0.46   0.39\n",
        "   0.38   0.44   0.405  0.435  0.395  0.42   0.39   0.385  0.445  0.395\n",
        "   0.425  0.32   0.365  0.4    0.44   0.435  0.41   0.37   0.38   0.44\n",
        "   0.41   0.335  0.405  0.395  0.33   0.44   0.415  0.42   0.395  0.36\n",
        "   0.41   0.395  0.44   0.4    0.45   0.34   0.38   0.375  0.385  0.37   0.4\n",
        "   0.38   0.415  0.34   0.35   0.38   0.345  0.405  0.365  0.4    0.42\n",
        "   0.465  0.45   0.49   0.45   0.34   0.355  0.4    0.42   0.385  0.365\n",
        "   0.375  0.4    0.375  0.37   0.37   0.39   0.345  0.4    0.37   0.39\n",
        "   0.455  0.445  0.39   0.405  0.38   0.355  0.425  0.395  0.38   0.415\n",
        "   0.34   0.35   0.355  0.415  0.43   0.37   0.37   0.345  0.405  0.345\n",
        "   0.435  0.42   0.38   0.455  0.445  0.41   0.44   0.415  0.365  0.395\n",
        "   0.395  0.415  0.47   0.485  0.415  0.46   0.45   0.405  0.43   0.335\n",
        "   0.385  0.36   0.395  0.42   0.38   0.375  0.465  0.415  0.435  0.39\n",
        "   0.425  0.4    0.42   0.41   0.465  0.355  0.385  0.405  0.325  0.455\n",
        "   0.45   0.37   0.37   0.37   0.38   0.425  0.39   0.405  0.37   0.385\n",
        "   0.44   0.38   0.38   0.405  0.36   0.4    0.375  0.38   0.345  0.435\n",
        "   0.43   0.4    0.345  0.445  0.37   0.38   0.415  0.42   0.365  0.39\n",
        "   0.405  0.475  0.44   0.455  0.405  0.385  0.365  0.38   0.435  0.4    0.33\n",
        "   0.365  0.395  0.45   0.405  0.37   0.405  0.44   0.415  0.37   0.34\n",
        "   0.405  0.4    0.475  0.375  0.41   0.435  0.465  0.41   0.4    0.35\n",
        "   0.46   0.37   0.39   0.425  0.45   0.415  0.42   0.445  0.45   0.415\n",
        "   0.455  0.305  0.36   0.49   0.39   0.4    0.4    0.43   0.46   0.39\n",
        "   0.385  0.355  0.43   0.385  0.405  0.415  0.375  0.43   0.44   0.375\n",
        "   0.355  0.47   0.395  0.43   0.315  0.37   0.42   0.425  0.45   0.37\n",
        "   0.44   0.38   0.44   0.4    0.405  0.42   0.35   0.355  0.345  0.43\n",
        "   0.405  0.4    0.37   0.305  0.445  0.385  0.41   0.415  0.35   0.4\n",
        "   0.435  0.41   0.425  0.375  0.365  0.39   0.355  0.43   0.415  0.365\n",
        "   0.425  0.375  0.365  0.375  0.435  0.385  0.38   0.39   0.33   0.38\n",
        "   0.44   0.43   0.39   0.38   0.395  0.39   0.39   0.34   0.435  0.385\n",
        "   0.39   0.355  0.38   0.395  0.325  0.305  0.4    0.365  0.4    0.4\n",
        "   0.395  0.355  0.365  0.375  0.45   0.42   0.4    0.335  0.42   0.395\n",
        "   0.385  0.425  0.445  0.4    0.39   0.39   0.375  0.375  0.405  0.32\n",
        "   0.45   0.415  0.35   0.42   0.355  0.33   0.46   0.425  0.435  0.38\n",
        "   0.435  0.33   0.34   0.375  0.325  0.375  0.385  0.455  0.415  0.425\n",
        "   0.41   0.395  0.38   0.405  0.445  0.39   0.455  0.375  0.395  0.395\n",
        "   0.38   0.4    0.365  0.36   0.455  0.43   0.38   0.445  0.385  0.47\n",
        "   0.445  0.365  0.365]]\n"
       ]
      }
     ],
     "prompt_number": 82
    },
    {
     "cell_type": "code",
     "collapsed": false,
     "input": [
      "danslesbornesplus=np.where(x<borneplus, 1, 0) \n",
      "danslesbornesmoins=np.where(x>bornemoins, 1, 0) \n",
      "danslesbornes=danslesbornesplus*danslesbornesmoins\n",
      "print(danslesbornes)\n",
      "binomial=danslesbornes.sum(1)\n",
      "print(\"On a\", binomial[0], \" echantillons dont la fr\u00e9quence est dans l'intervalle de fluctuation sur les \", nombreechant , \" soit une proportion de \",binomial[0]/nombreechant*100,\"%\") "
     ],
     "language": "python",
     "metadata": {},
     "outputs": [
      {
       "output_type": "stream",
       "stream": "stdout",
       "text": [
        "[[1 1 1 1 1 1 1 1 1 1 1 1 1 1 1 1 1 1 1 1 1 1 1 1 1 1 1 1 1 1 1 1 1 1 1 1 1\n",
        "  1 1 1 1 1 1 1 1 1 1 1 1 1 1 1 0 1 1 1 1 1 1 1 1 1 1 1 1 1 1 1 1 1 1 1 1 0\n",
        "  1 1 1 1 1 1 1 1 1 1 1 1 1 1 1 1 1 1 1 1 1 1 1 1 1 1 1 1 1 1 1 1 1 1 1 1 1\n",
        "  1 0 1 1 1 1 1 1 1 1 1 1 1 1 1 1 1 1 1 1 1 0 1 1 1 1 1 1 1 1 1 1 1 1 1 1 0\n",
        "  1 0 1 1 1 1 1 0 1 1 1 1 1 1 1 1 1 1 1 1 1 1 1 1 1 1 1 1 1 0 1 1 1 1 1 1 1\n",
        "  1 1 1 1 1 1 1 1 0 1 1 1 1 1 1 1 1 1 1 1 1 1 1 1 1 1 1 1 1 1 1 1 1 1 1 1 1\n",
        "  1 1 1 1 1 1 1 1 1 1 1 1 1 1 0 1 1 1 1 1 1 1 1 1 1 1 1 1 1 1 1 1 1 1 1 1 1\n",
        "  1 1 1 1 1 1 1 1 1 1 1 1 1 1 1 1 1 1 1 1 1 1 0 0 1 1 1 0 1 1 1 1 1 1 1 1 0\n",
        "  1 1 1 1 1 1 1 1 1 1 1 1 0 1 1 1 1 1 1 1 1 1 1 1 1 1 0 1 1 1 1 1 1 1 1 1 1\n",
        "  1 1 1 1 1 1 1 1 1 1 1 1 1 1 1 1 1 1 1 1 1 1 1 1 1 1 1 1 1 1 1 1 1 1 1 1 1\n",
        "  1 1 1 1 1 1 1 1 1 1 1 1 1 1 1 1 1 1 1 1 1 1 1 1 1 1 1 1 1 1 1 1 1 1 1 1 1\n",
        "  1 1 1 1 1 1 1 1 1 1 1 1 1 1 1 1 1 1 1 1 1 1 1 1 1 1 1 1 1 0 1 1 1 1 1 1 0\n",
        "  1 1 1 1 1 1 1 1 1 1 1 1 1 1 1 1 1 1 1 1 1 1 1 0 1 1 1 1 1 1 1 1 1 1 1 1 1\n",
        "  1 0 1 1 1 1 1 1 1 1 1 1 1 1 1 1 1 1 1 0 0 1 1 1 1 1 1 1 1 1 1 0 1 1 1 1 0\n",
        "  1 1 1 1 1 1 1 1 1 1 1 1 1 1 1 1 1 1 1 1 0 1 1 1 1 1 1 0 0 1 1 1 1 1 1 1 1\n",
        "  1 1 1 0 1 1 1 1 1 1 1 1 1 1 1 1 1 1 1 1 1 1 1 1 1 1 1 1 1 1 1 1 1 1 1 1 1\n",
        "  1 1 1 1 1 0 1 1 1 1 1 1 1 1 1 1 1 0 1 1 1 1 1 1 1 1 1 1 1 1 1 1 1 1 1 1 1\n",
        "  1 1 1 1 1 1 1 1 1 1 1 1 1 1 1 1 1 1 1 1 1 1 1 1 1 1 1 0 1 1 1 1 1 1 1 1 1\n",
        "  1 1 1 1 1 1 1 1 1 1 1 1 1 1 1 1 1 1 1 1 1 1 1 1 1 1 1 1 1 1 1 1 0 1 1 1 1\n",
        "  1 1 1 1 1 1 1 1 1 1 1 1 1 1 1 1 1 1 1 1 1 1 1 1 1 1 1 1 1 1 1 1 1 1 1 1 1\n",
        "  1 1 1 1 1 1 1 1 1 0 1 1 1 1 1 1 1 1 1 1 1 1 1 1 1 1 1 1 1 1 1 1 1 1 0 1 1\n",
        "  1 1 1 1 1 1 1 1 1 1 1 1 1 1 1 1 1 1 1 1 1 1 1 1 1 1 1 1 1 1 0 1 1 1 1 1 1\n",
        "  1 1 1 1 1 1 1 1 1 1 1 1 1 1 1 0 1 1 1 1 1 1 1 1 1 1 1 1 1 1 1 1 1 1 0 1 0\n",
        "  1 1 1 1 1 1 1 1 1 1 1 1 1 1 1 1 1 1 1 1 0 1 1 1 1 1 1 1 1 1 1 1 1 1 1 1 1\n",
        "  1 1 0 1 1 1 1 1 1 1 1 1 1 1 1 1 1 1 1 1 1 1 1 1 1 1 1 1 1 1 1 1 1 1 1 1 1\n",
        "  1 1 1 1 1 1 0 0 1 1 1 1 1 1 1 1 1 1 1 1 1 1 1 1 1 1 1 1 1 1 1 0 1 1 1 1 1\n",
        "  1 1 1 1 1 1 1 1 1 0 1 1 1 1 1 1 1 1 1 1 1 1 1 1 1 1 1 1 1 1 1 1 1 1 1 1 1\n",
        "  1]]\n",
        "On a 956  echantillons dont la fr\u00e9quence est dans l'intervalle de fluctuation sur les  1000  soit une proportion de  95.6 %\n"
       ]
      }
     ],
     "prompt_number": 83
    },
    {
     "cell_type": "code",
     "collapsed": false,
     "input": [
      "y=numpy.linspace(0, 10, num=nombreechant)\n",
      "plt.scatter(y,x, alpha=0.5)\n",
      "linex=[-2,12]\n",
      "lineproba=[p,p]\n",
      "lineprobaPlus=[p+1/sqrt(n),p+1/sqrt(n)]\n",
      "lineprobaMoins=[p-1/sqrt(n),p-1/sqrt(n)]\n",
      "\n",
      "\n",
      "plt.plot(linex,lineproba,color=\"red\", linewidth=3)\n",
      "plt.plot(linex,lineprobaPlus)\n",
      "plt.plot(linex,lineprobaMoins)\n",
      "plt.show()"
     ],
     "language": "python",
     "metadata": {},
     "outputs": [
      {
       "metadata": {},
       "output_type": "display_data",
       "png": "[encoded data removed]",
       "text": [
        "<matplotlib.figure.Figure at 0x74cd940>"
       ]
      }
     ],
     "prompt_number": 84
    },
    {
     "cell_type": "code",
     "collapsed": false,
     "input": [],
     "language": "python",
     "metadata": {},
     "outputs": []
    }
   ],
   "metadata": {}
  }
 ]
}