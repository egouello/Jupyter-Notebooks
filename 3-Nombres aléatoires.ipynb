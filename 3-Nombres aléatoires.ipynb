{
 "metadata": {
  "name": "",
  "signature": "sha256:848fb8e78a9daee42ae057e4f7e74ac4aca76e3661fb71058364ae48eb9b711f"
 },
 "nbformat": 3,
 "nbformat_minor": 0,
 "worksheets": [
  {
   "cells": [
    {
     "cell_type": "code",
     "collapsed": false,
     "input": [
      "import numpy as np\n",
      "import matplotlib.mlab as mlab\n",
      "import matplotlib.pyplot as plt\n",
      "%pylab inline"
     ],
     "language": "python",
     "metadata": {},
     "outputs": [
      {
       "output_type": "stream",
       "stream": "stdout",
       "text": [
        "Populating the interactive namespace from numpy and matplotlib\n"
       ]
      }
     ],
     "prompt_number": 1
    },
    {
     "cell_type": "markdown",
     "metadata": {},
     "source": [
      "Quelques exemples de nombres al\u00e9atoires\n",
      "=======================================\n",
      "\n",
      "[Ce lien vous permettra de voir la syntaxe des cellules de pr\u00e9sentation](http://daringfireball.net/projects/markdown/basics)\n",
      "\n",
      "[Ce lien vous permettra de voir la doc de numpy.random](http://docs.scipy.org/doc/numpy/reference/routines.random.html)"
     ]
    },
    {
     "cell_type": "code",
     "collapsed": false,
     "input": [
      "random.random()"
     ],
     "language": "python",
     "metadata": {},
     "outputs": [
      {
       "metadata": {},
       "output_type": "pyout",
       "prompt_number": 19,
       "text": [
        "0.8949865649766312"
       ]
      }
     ],
     "prompt_number": 19
    },
    {
     "cell_type": "code",
     "collapsed": false,
     "input": [
      "#on peut g\u00e9n\u00e9rer un tableau de nombres al\u00e9atoires\n",
      "alea=random.random((4,5))\n",
      "print(alea)\n",
      "print(\"3eme ligne, 3eme colonne\")\n",
      "print(alea[2,2])\n",
      "print(\"seulement la 3eme ligne\")\n",
      "print(alea[2])\n",
      "print(\"seulement la 4eme colonne\")\n",
      "print(alea[:,3])\n"
     ],
     "language": "python",
     "metadata": {},
     "outputs": [
      {
       "output_type": "stream",
       "stream": "stdout",
       "text": [
        "[[ 0.61208067  0.9803835   0.17236425  0.85385841  0.32532627]\n",
        " [ 0.77682005  0.06899628  0.62506536  0.71516958  0.16130433]\n",
        " [ 0.93820627  0.20828797  0.60836261  0.0646153   0.91659948]\n",
        " [ 0.98386327  0.45284176  0.43194572  0.3576184   0.03005262]]\n",
        "3eme ligne, 3eme colonne\n",
        "0.60836260542\n",
        "seulement la 3eme ligne\n",
        "[ 0.93820627  0.20828797  0.60836261  0.0646153   0.91659948]\n",
        "seulement la 4eme colonne\n",
        "[ 0.85385841  0.71516958  0.0646153   0.3576184 ]\n"
       ]
      }
     ],
     "prompt_number": 28
    },
    {
     "cell_type": "code",
     "collapsed": false,
     "input": [
      "random.uniform(1, 10,(2,4))"
     ],
     "language": "python",
     "metadata": {},
     "outputs": [
      {
       "metadata": {},
       "output_type": "pyout",
       "prompt_number": 17,
       "text": [
        "array([[ 1.61790741,  3.80248721,  6.22768013,  3.68184444],\n",
        "       [ 6.45678538,  5.19242273,  4.88096145,  5.44603886]])"
       ]
      }
     ],
     "prompt_number": 17
    },
    {
     "cell_type": "heading",
     "level": 2,
     "metadata": {},
     "source": [
      "Un petit jeu pour commencer"
     ]
    },
    {
     "cell_type": "code",
     "collapsed": false,
     "input": [
      "nombre=random_integers(1,20)\n",
      "guess=-1\n",
      "while nombre!=guess:\n",
      "    guess=int(input(\"devine un nombre entre 1 et 20\"))\n",
      "    if nombre<guess:\n",
      "        print(\"trop grand\")\n",
      "    elif nombre>guess:\n",
      "        print(\"trop petit\")\n",
      "print(\"gagn\u00e9\")\n",
      "print(nombre)"
     ],
     "language": "python",
     "metadata": {},
     "outputs": [
      {
       "name": "stdout",
       "output_type": "stream",
       "stream": "stdout",
       "text": [
        "devine un nombre entre 1 et 2010\n"
       ]
      },
      {
       "output_type": "stream",
       "stream": "stdout",
       "text": [
        "trop petit\n"
       ]
      },
      {
       "name": "stdout",
       "output_type": "stream",
       "stream": "stdout",
       "text": [
        "devine un nombre entre 1 et 2015\n"
       ]
      },
      {
       "output_type": "stream",
       "stream": "stdout",
       "text": [
        "trop petit\n"
       ]
      },
      {
       "name": "stdout",
       "output_type": "stream",
       "stream": "stdout",
       "text": [
        "devine un nombre entre 1 et 2017\n"
       ]
      },
      {
       "output_type": "stream",
       "stream": "stdout",
       "text": [
        "gagn\u00e9\n",
        "17\n"
       ]
      }
     ],
     "prompt_number": 3
    },
    {
     "cell_type": "heading",
     "level": 1,
     "metadata": {},
     "source": [
      "Histogramme d'une loi binomiale - prise 1"
     ]
    },
    {
     "cell_type": "code",
     "collapsed": false,
     "input": [
      "binomial=np.random.binomial(10,.5,1000)\n",
      "print(binomial)\n",
      "plt.hist(binomial, bins=11,range=(0,10) ,normed=True)\n",
      "plt.show()"
     ],
     "language": "python",
     "metadata": {},
     "outputs": [
      {
       "output_type": "stream",
       "stream": "stdout",
       "text": [
        "[4 5 4 8 5 5 1 5 2 5 4 5 6 4 3 6 4 3 5 3 6 7 3 2 7 7 5 3 5 6 2 5 4 7 3 3 4\n",
        " 3 4 5 3 6 5 3 7 5 4 6 5 3 8 5 3 4 3 5 8 5 5 6 4 3 6 5 5 5 1 5 5 4 5 4 4 5\n",
        " 2 6 8 6 5 3 5 6 6 6 5 3 4 6 7 6 8 2 4 4 4 5 5 7 6 4 5 4 4 4 4 4 2 3 4 6 5\n",
        " 5 5 4 4 5 6 4 7 7 2 4 7 5 3 6 4 7 4 6 4 5 3 4 3 9 4 4 4 7 6 5 5 4 5 2 6 6\n",
        " 6 5 4 1 6 3 7 6 4 7 5 6 4 2 5 5 5 5 4 5 5 6 8 7 6 6 5 5 4 5 5 4 6 3 2 5 6\n",
        " 5 5 5 7 5 5 6 7 7 6 7 5 6 5 5 5 5 3 7 4 5 6 6 5 6 4 4 7 4 4 3 3 5 5 6 7 3\n",
        " 6 5 4 6 3 7 6 4 5 3 7 4 6 5 4 3 8 5 5 6 7 6 2 4 5 3 6 2 4 2 5 7 3 4 4 3 6\n",
        " 4 4 4 4 7 4 5 6 8 8 5 5 3 6 9 2 6 5 6 3 2 4 5 5 5 6 5 6 5 6 2 5 7 6 5 6 4\n",
        " 8 5 3 5 6 9 3 6 5 6 2 7 3 5 5 4 4 4 5 5 8 7 7 5 8 6 6 6 6 5 6 6 7 5 5 6 5\n",
        " 3 6 4 3 7 4 6 6 5 7 3 4 6 3 4 4 5 4 4 5 6 7 5 6 5 4 9 4 7 6 3 5 3 8 3 5 5\n",
        " 5 3 6 5 6 7 5 5 4 6 5 4 6 3 5 6 8 6 8 2 5 5 7 6 4 5 6 5 4 6 5 3 6 4 5 4 4\n",
        " 4 4 3 5 5 6 3 3 8 5 4 7 5 3 1 5 6 5 3 5 4 2 5 7 5 5 4 4 1 4 4 4 2 7 6 3 7\n",
        " 4 6 4 4 8 6 5 5 6 4 5 6 2 7 5 3 7 8 8 7 6 4 3 6 6 3 6 4 4 7 6 3 8 3 4 3 2\n",
        " 4 5 7 7 5 3 3 4 7 5 6 6 5 4 6 5 4 6 7 7 8 2 5 5 3 9 2 5 5 6 3 4 4 5 6 6 4\n",
        " 3 7 4 3 4 6 6 6 7 6 5 6 3 3 5 5 4 6 3 3 5 4 5 6 4 4 5 8 5 4 4 3 3 5 4 6 7\n",
        " 6 6 6 5 5 7 6 7 3 2 6 5 5 3 6 3 5 4 3 5 4 4 4 5 3 6 6 4 4 5 4 5 2 9 2 2 5\n",
        " 4 6 3 4 6 6 7 5 2 3 3 2 6 6 3 2 7 6 7 6 5 5 1 8 8 4 6 4 3 5 3 4 4 4 3 7 6\n",
        " 5 3 3 3 5 3 5 2 7 4 7 8 3 3 5 5 5 3 5 7 6 6 8 5 8 3 5 3 7 5 5 6 4 6 6 6 7\n",
        " 7 4 4 3 4 4 4 2 6 4 5 4 5 5 6 6 6 2 5 6 7 7 7 7 4 6 4 4 5 5 5 5 7 7 1 6 5\n",
        " 5 6 5 6 3 6 5 2 6 5 6 4 4 6 4 2 6 3 4 6 6 4 7 4 3 6 7 4 5 5 6 5 7 6 3 4 8\n",
        " 5 6 8 3 7 5 4 6 5 7 5 4 5 6 5 4 7 5 6 8 2 4 3 4 5 6 2 7 6 5 3 5 3 8 5 3 3\n",
        " 4 6 4 3 3 8 5 4 6 2 6 8 6 5 2 0 3 4 8 8 6 3 5 6 8 7 5 3 8 5 5 5 4 5 6 5 3\n",
        " 5 5 5 6 3 7 4 5 3 3 4 6 6 4 4 6 4 6 6 7 3 5 7 6 7 5 7 6 5 4 4 4 3 3 8 5 4\n",
        " 4 4 7 2 3 7 8 7 5 6 4 6 3 6 7 4 2 4 5 2 6 6 7 4 3 4 5 5 4 4 5 4 3 3 5 6 3\n",
        " 7 6 6 6 2 2 6 4 6 7 5 2 7 7 3 6 5 4 7 4 4 6 4 6 5 7 5 4 5 9 6 6 4 6 6 6 6\n",
        " 7 5 5 6 5 7 4 4 7 4 6 7 6 4 4 6 7 2 6 6 6 4 3 1 5 9 4 2 3 4 7 7 3 4 3 4 6\n",
        " 5 6 5 5 5 4 3 6 4 5 5 6 5 6 6 2 5 5 4 4 7 5 5 5 5 6 6 6 7 3 6 5 5 3 4 3 4\n",
        " 7]\n"
       ]
      },
      {
       "metadata": {},
       "output_type": "display_data",
       "png": "[encoded data removed]",
       "text": [
        "<matplotlib.figure.Figure at 0x6fa70b8>"
       ]
      }
     ],
     "prompt_number": 7
    },
    {
     "cell_type": "code",
     "collapsed": false,
     "input": [
      "binom=random.binomial(10,.4,size=10000)\n",
      "plt.hist(binom, bins=110, normed=True, color='b', label='Loi binomiale n=10, p=0.4')\n",
      "plt.legend()\n",
      "plt.show()"
     ],
     "language": "python",
     "metadata": {},
     "outputs": [
      {
       "metadata": {},
       "output_type": "display_data",
       "png": "[encoded data removed]",
       "text": [
        "<matplotlib.figure.Figure at 0x70da4e0>"
       ]
      }
     ],
     "prompt_number": 14
    },
    {
     "cell_type": "heading",
     "level": 1,
     "metadata": {},
     "source": [
      "Histogramme d'une loi binomiale - prise 2"
     ]
    },
    {
     "cell_type": "heading",
     "level": 2,
     "metadata": {},
     "source": [
      "Commen\u00e7ons par g\u00e9n\u00e9rer des nombres al\u00e9atoires"
     ]
    },
    {
     "cell_type": "markdown",
     "metadata": {},
     "source": [
      "Voir ici l'aide sur les nombres al\u00e9atoires : http://docs.scipy.org/doc/numpy/reference/routines.random.html"
     ]
    },
    {
     "cell_type": "code",
     "collapsed": false,
     "input": [
      "z=np.random.rand(1000,10)\n",
      "print(z)"
     ],
     "language": "python",
     "metadata": {},
     "outputs": [
      {
       "output_type": "stream",
       "stream": "stdout",
       "text": [
        "[[ 0.21802758  0.8816917   0.30860037 ...,  0.54031399  0.32503537\n",
        "   0.01850393]\n",
        " [ 0.91266885  0.88063574  0.18375676 ...,  0.73924562  0.55258743\n",
        "   0.58612903]\n",
        " [ 0.23937071  0.54556066  0.66119481 ...,  0.88657565  0.50635457\n",
        "   0.59319997]\n",
        " ..., \n",
        " [ 0.57416945  0.81154589  0.97494228 ...,  0.95518702  0.25907342\n",
        "   0.38248606]\n",
        " [ 0.26800784  0.05679322  0.82776153 ...,  0.02790609  0.54494835\n",
        "   0.60241806]\n",
        " [ 0.71455626  0.08535487  0.56538084 ...,  0.60490069  0.33422923\n",
        "   0.61861122]]\n"
       ]
      }
     ],
     "prompt_number": 2
    },
    {
     "cell_type": "heading",
     "level": 2,
     "metadata": {},
     "source": [
      "Puis G\u00e9n\u00e9rons des succ\u00e8s de proba 0.8"
     ]
    },
    {
     "cell_type": "code",
     "collapsed": false,
     "input": [
      "succes=np.where(z > 0.4, 1, 0) \n",
      "print(succes)\n",
      "np.where?"
     ],
     "language": "python",
     "metadata": {},
     "outputs": [
      {
       "output_type": "stream",
       "stream": "stdout",
       "text": [
        "[[0 1 0 ..., 1 0 0]\n",
        " [1 1 0 ..., 1 1 1]\n",
        " [0 1 1 ..., 1 1 1]\n",
        " ..., \n",
        " [1 1 1 ..., 1 0 0]\n",
        " [0 0 1 ..., 0 1 1]\n",
        " [1 0 1 ..., 1 0 1]]\n"
       ]
      }
     ],
     "prompt_number": 3
    },
    {
     "cell_type": "heading",
     "level": 2,
     "metadata": {},
     "source": [
      "Comptons le nombre de succ\u00e8s r\u00e9alis\u00e9s en 10 \u00e9preuves "
     ]
    },
    {
     "cell_type": "code",
     "collapsed": false,
     "input": [
      "binomial=succes.sum(1)\n",
      "print(binomial)\n",
      "#sum?"
     ],
     "language": "python",
     "metadata": {},
     "outputs": [
      {
       "output_type": "stream",
       "stream": "stdout",
       "text": [
        "[ 6  5  7  5  4  6  4  6  4  7  5  6  9  7  7  5  2  4  6  6  7  6  6  5  6\n",
        "  5  7  7  3  7  5  6  5  5  5  7  5  3  6  6  7  3  6  8  6  5  6  3  7  6\n",
        "  6  6  7  8  6  5  6  4  7  5  7  5  6  5  6  7  6  7  5  6  6  6  5  5  6\n",
        "  8  5  5  5  8  4  8  8  6  5  5  7  5  8  5  2  6  5  5  7  7  6  7  8  5\n",
        "  4  6 10  6  6  6  6  5  6  6  4  2  9  7  4  5  5  6  8  6  6  6  3  5  4\n",
        "  7  7  5  5  5  5  3  7  7  3  7  7  7  6  7  7  8  6  7  2  5  5  6  7  7\n",
        "  9  7  8  7  8  5  4  6  4  7  8  8  6  7  5  3  6  4  6  6  7  7  7  6  8\n",
        "  7  2  6  8  4  6  5  5  7  8  8  4  7  6  7  5  6  7  6  5  7  5  9  8  5\n",
        "  6  7  5  5  5  2  7  7  4  7  4  5  5  7  4  6  3  6  8  7  6  5  2  7  3\n",
        "  8  9  8  7  7  6  4  6  8  4  5  5  5  7  7  6  6  6  4  3  9  7  6  8  5\n",
        "  6  6  5  7  6  6  5  6  4  7  6  8  4  5  5  6  7  6  7  6  7  8  6  7  6\n",
        "  6  5  6  8  6  5  7  7  7  5  8  5  5  6  1  5  7  8  8  7  5  7  4  8  6\n",
        "  7  6  9  8  7  8  3  9  8  7  7  5  6  4  6  6  4  5  8  7  7  4  9  6  3\n",
        "  6  7  3  8  5  4  8  7  7  6  8  5  6  6  4  3  9  8  4  4  6  5  7  7  8\n",
        "  7  6  8  5  5  1  8  7  7  3  5  4  7  8  6  8  7  6  8  5  6  5  7  8  8\n",
        "  6  4  6  5  5  5  7  6  8  4  4  4  5  6  6  7  5  3  7  6  7  4  7  7  7\n",
        "  4  7  9  6  7  5  5  6  7  3  7  9  4  6  5  7  4  8  6  6  6  2  7  6  6\n",
        "  7  3  5  5  5  6  6  6  5  3  7  7  8  5  2  8  5  5  6  9  4  9  7  6  6\n",
        "  8  8  4  3  5  6  4  7  4  5  6  5  4  4  7  5  5  5  7  4  5  5  6  5  7\n",
        "  7  5  6  6  6  8  7  7  3  5  8  8  3  6  3  5  7  5  3  2  5  6  3  7  8\n",
        "  5  8  6  6  9  8  5  6  8  2  9  5  8  6  9  6  4  7  6  6  8  4  4  6  6\n",
        "  8  5  7  8  7  6  7  4  3  6  7  6  4  7  4  7  9  3  6  7  5  7  6  8  6\n",
        "  7  5  4  7  5  8  6  5  6  6  4  3  6  5  6  7  5  5  6  6  7  4  5  2  8\n",
        "  5  3  6  6  0  6 10  4  6  5  7  3  7  5  9  8  6  9  7  5  1  5  9  5  6\n",
        "  7  6  5  5  6  6  5  8  8  8  4  7  6  8  6  7  6  6  9  7  4  4  5  3  5\n",
        "  7  6  7  7  6  7  2  6  4  6  7  8  6  5  8  3  7  8  9  6  6  7  6  5  6\n",
        "  5  5  5  7  7  5  8  7  7  3  8  6 10  9  6  3  3  6  5  6  9  6  8  7  8\n",
        "  9  8  6  7  9  5  7  3  7  5  6  4  7  6  6  4  6  3  4  6  8  7  6  7  7\n",
        "  3  7  9  6  7 10  7  6  6  5  7  4  6  5  3  6  5  2  9  8  9  5  6  6  4\n",
        "  3  6  2  8  6  5  8  5  3  5  7  5  8  5  9  5  5  3  9  3  6  8  5  5  5\n",
        "  8  7  6  9  4  5  4  7  5  4  7  7  7  6  3  6  6  5  6  4  6  4  4  4  5\n",
        "  6  5  9  7  4  8  6  5  6  5  6  5  4  8  4  4  6  7  5  7 10  4  5  7  3\n",
        "  4  5  3  6  5  6  7  6  7  6  4  5  6  7  8  8  8  5  6  7  8  8  5  3  3\n",
        "  5  5  5  9  4  4  3  5  2  9  7  6  4  4  6  7  7  6  6  8  7  7  7  8  7\n",
        "  6  9  7  6  4  3  3  5  4  3  8  6  5  4  6  9 10  7  5  9  7  6  5  8  9\n",
        "  2  6  8  7  5  6  6  7  8 10  5  7  4  7  4  7  6  7  7  3  7  5  6  7  8\n",
        "  7  6  5  6  7  7  7  5  9  7  8  5  7  4  4  5  5  5  5  4  7  8  6  4  6\n",
        "  5  6  8  6  2  5  5  6  8  6  5  7  7  7  7  5  9  7  7  4  7  8  5 10  6\n",
        "  7  5  7  5  7  7  6  5  4  8  5  4  9  6  6  6  6  6  5  6 10  5  7  5  7\n",
        "  7  7  6  6  5  6  5  8  5  7  6  7  8  7  6  7  4  5  8  7  5  4  7  5  6]\n"
       ]
      }
     ],
     "prompt_number": 4
    },
    {
     "cell_type": "code",
     "collapsed": false,
     "input": [
      "plt.hist(binomial, bins=11,range=(0,10) ,normed=True)\n",
      "plt.show()"
     ],
     "language": "python",
     "metadata": {},
     "outputs": [
      {
       "metadata": {},
       "output_type": "display_data",
       "png": "[encoded data removed]",
       "text": [
        "<matplotlib.figure.Figure at 0x6bb6898>"
       ]
      }
     ],
     "prompt_number": 5
    },
    {
     "cell_type": "heading",
     "level": 2,
     "metadata": {},
     "source": [
      "Loi normale"
     ]
    },
    {
     "cell_type": "code",
     "collapsed": false,
     "input": [
      "z=normal(size=100000)\n",
      "print(z[0])"
     ],
     "language": "python",
     "metadata": {},
     "outputs": [
      {
       "output_type": "stream",
       "stream": "stdout",
       "text": [
        "-0.638496753024\n"
       ]
      }
     ],
     "prompt_number": 9
    },
    {
     "cell_type": "code",
     "collapsed": false,
     "input": [
      "x=100+3*z"
     ],
     "language": "python",
     "metadata": {},
     "outputs": [],
     "prompt_number": 10
    },
    {
     "cell_type": "code",
     "collapsed": false,
     "input": [
      "n, bins, patches = plt.hist(x, 100, normed=True,facecolor='green',cumulative=False)\n",
      "plt.title(\"Histogramme d'une loi normale\")\n",
      "plt.xlabel(\"Valeur\")\n",
      "plt.ylabel(\"Frequence\")\n",
      "plt.show()"
     ],
     "language": "python",
     "metadata": {},
     "outputs": [
      {
       "metadata": {},
       "output_type": "display_data",
       "png": "[encoded data removed]",
       "text": [
        "<matplotlib.figure.Figure at 0x6c11828>"
       ]
      }
     ],
     "prompt_number": 11
    },
    {
     "cell_type": "code",
     "collapsed": false,
     "input": [
      "gaussian_numbers = normal(size=1000)\n",
      "uniform_numbers = uniform(low=-3, high=3, size=1000)\n",
      "plt.hist(gaussian_numbers, bins=20, normed=True, color='b', label='Gaussian')\n",
      "plt.hist(uniform_numbers, bins=20, normed=True, color='r', alpha=0.5, label='Uniform')\n",
      "plt.title(\"Gaussian/Uniform Histogram\")\n",
      "plt.xlabel(\"Value\")\n",
      "plt.ylabel(\"Probability\")\n",
      "plt.legend()\n",
      "plt.show()"
     ],
     "language": "python",
     "metadata": {},
     "outputs": [
      {
       "metadata": {},
       "output_type": "display_data",
       "png": "[encoded data removed]",
       "text": [
        "<matplotlib.figure.Figure at 0x6c5b470>"
       ]
      }
     ],
     "prompt_number": 12
    },
    {
     "cell_type": "markdown",
     "metadata": {},
     "source": [
      "Intervalle de fluctuation\n",
      "========================="
     ]
    },
    {
     "cell_type": "code",
     "collapsed": false,
     "input": [
      "n=200\n",
      "p=.4\n",
      "nombreechant=1000\n",
      "borneplus=p+1/sqrt(n)\n",
      "bornemoins=p-1/sqrt(n)"
     ],
     "language": "python",
     "metadata": {},
     "outputs": [],
     "prompt_number": 8
    },
    {
     "cell_type": "code",
     "collapsed": false,
     "input": [
      "x=np.random.binomial(n,p,(1,nombreechant))\n",
      "x=x/n\n",
      "print(x)"
     ],
     "language": "python",
     "metadata": {},
     "outputs": [
      {
       "output_type": "stream",
       "stream": "stdout",
       "text": [
        "[[ 0.45   0.36   0.4    0.35   0.45   0.32   0.395  0.415  0.37   0.405\n",
        "   0.41   0.35   0.405  0.43   0.43   0.39   0.385  0.385  0.37   0.485\n",
        "   0.45   0.34   0.41   0.385  0.36   0.335  0.425  0.37   0.41   0.33\n",
        "   0.395  0.41   0.41   0.375  0.44   0.42   0.44   0.455  0.425  0.335\n",
        "   0.38   0.455  0.39   0.405  0.425  0.34   0.395  0.365  0.425  0.38\n",
        "   0.31   0.41   0.46   0.395  0.35   0.41   0.375  0.385  0.425  0.415\n",
        "   0.37   0.425  0.47   0.315  0.38   0.355  0.38   0.455  0.425  0.355\n",
        "   0.42   0.365  0.395  0.35   0.385  0.405  0.435  0.405  0.395  0.395\n",
        "   0.375  0.33   0.435  0.4    0.4    0.375  0.355  0.43   0.39   0.335\n",
        "   0.38   0.345  0.465  0.36   0.39   0.405  0.355  0.41   0.38   0.42\n",
        "   0.425  0.355  0.4    0.385  0.415  0.375  0.365  0.395  0.43   0.335\n",
        "   0.39   0.415  0.425  0.385  0.48   0.365  0.435  0.385  0.435  0.35\n",
        "   0.42   0.465  0.38   0.385  0.4    0.345  0.365  0.42   0.365  0.41\n",
        "   0.335  0.395  0.405  0.42   0.4    0.4    0.38   0.505  0.34   0.45\n",
        "   0.44   0.37   0.36   0.375  0.35   0.34   0.37   0.43   0.39   0.45\n",
        "   0.34   0.45   0.455  0.385  0.41   0.38   0.46   0.395  0.39   0.46   0.5\n",
        "   0.43   0.405  0.415  0.375  0.37   0.4    0.385  0.36   0.42   0.365\n",
        "   0.375  0.43   0.34   0.35   0.375  0.39   0.375  0.4    0.42   0.42\n",
        "   0.415  0.455  0.37   0.375  0.37   0.345  0.405  0.36   0.445  0.39\n",
        "   0.38   0.38   0.39   0.375  0.39   0.42   0.395  0.43   0.39   0.43   0.4\n",
        "   0.335  0.45   0.37   0.4    0.465  0.385  0.36   0.43   0.435  0.435\n",
        "   0.42   0.325  0.34   0.415  0.355  0.41   0.42   0.445  0.395  0.375\n",
        "   0.38   0.445  0.475  0.39   0.35   0.39   0.425  0.35   0.33   0.39\n",
        "   0.415  0.395  0.405  0.425  0.44   0.41   0.405  0.345  0.43   0.395\n",
        "   0.415  0.385  0.375  0.4    0.37   0.38   0.425  0.43   0.415  0.415\n",
        "   0.41   0.385  0.405  0.4    0.465  0.375  0.46   0.36   0.465  0.405\n",
        "   0.42   0.43   0.395  0.355  0.405  0.375  0.375  0.405  0.385  0.34\n",
        "   0.39   0.36   0.38   0.4    0.375  0.39   0.385  0.345  0.44   0.41\n",
        "   0.36   0.46   0.405  0.425  0.42   0.415  0.43   0.43   0.435  0.39\n",
        "   0.41   0.4    0.42   0.395  0.37   0.405  0.39   0.435  0.455  0.45\n",
        "   0.355  0.395  0.42   0.43   0.4    0.435  0.425  0.41   0.36   0.38\n",
        "   0.39   0.42   0.43   0.39   0.38   0.425  0.44   0.34   0.36   0.375\n",
        "   0.405  0.405  0.445  0.41   0.42   0.435  0.43   0.37   0.39   0.4\n",
        "   0.355  0.385  0.375  0.37   0.365  0.45   0.34   0.42   0.4    0.45\n",
        "   0.46   0.435  0.39   0.38   0.42   0.41   0.44   0.365  0.435  0.425\n",
        "   0.4    0.42   0.405  0.41   0.435  0.345  0.435  0.395  0.43   0.405\n",
        "   0.365  0.415  0.35   0.425  0.345  0.375  0.425  0.365  0.39   0.365\n",
        "   0.395  0.375  0.445  0.32   0.365  0.42   0.36   0.395  0.485  0.45\n",
        "   0.415  0.41   0.41   0.43   0.365  0.37   0.42   0.395  0.5    0.405\n",
        "   0.405  0.46   0.45   0.405  0.385  0.41   0.46   0.37   0.425  0.4    0.38\n",
        "   0.365  0.43   0.405  0.35   0.355  0.385  0.33   0.405  0.415  0.395\n",
        "   0.42   0.365  0.425  0.485  0.435  0.395  0.425  0.425  0.425  0.435\n",
        "   0.385  0.475  0.42   0.375  0.46   0.395  0.4    0.385  0.415  0.39\n",
        "   0.38   0.38   0.44   0.43   0.46   0.46   0.41   0.34   0.31   0.38\n",
        "   0.415  0.385  0.43   0.395  0.365  0.385  0.39   0.385  0.49   0.39\n",
        "   0.375  0.405  0.405  0.415  0.395  0.42   0.415  0.4    0.435  0.415\n",
        "   0.345  0.4    0.31   0.39   0.385  0.375  0.395  0.415  0.46   0.41\n",
        "   0.43   0.39   0.4    0.37   0.465  0.46   0.355  0.41   0.415  0.435\n",
        "   0.43   0.39   0.41   0.34   0.44   0.35   0.34   0.4    0.405  0.365\n",
        "   0.365  0.375  0.4    0.425  0.395  0.39   0.435  0.38   0.4    0.395\n",
        "   0.44   0.345  0.415  0.435  0.415  0.4    0.39   0.4    0.38   0.47\n",
        "   0.42   0.4    0.365  0.34   0.42   0.42   0.4    0.385  0.4    0.335\n",
        "   0.42   0.39   0.385  0.415  0.375  0.37   0.38   0.435  0.34   0.48\n",
        "   0.43   0.37   0.41   0.405  0.475  0.45   0.37   0.325  0.405  0.405\n",
        "   0.46   0.425  0.455  0.49   0.425  0.39   0.405  0.35   0.39   0.355\n",
        "   0.385  0.36   0.385  0.4    0.395  0.38   0.41   0.405  0.42   0.435\n",
        "   0.43   0.39   0.41   0.395  0.405  0.375  0.45   0.43   0.37   0.37\n",
        "   0.45   0.385  0.37   0.44   0.43   0.425  0.385  0.47   0.445  0.365\n",
        "   0.43   0.35   0.38   0.365  0.395  0.395  0.415  0.37   0.4    0.385\n",
        "   0.44   0.405  0.385  0.415  0.365  0.38   0.46   0.39   0.41   0.4\n",
        "   0.395  0.41   0.365  0.385  0.425  0.345  0.36   0.385  0.405  0.365\n",
        "   0.4    0.365  0.4    0.41   0.455  0.425  0.415  0.355  0.435  0.395\n",
        "   0.48   0.34   0.445  0.4    0.38   0.485  0.445  0.335  0.415  0.385\n",
        "   0.385  0.36   0.405  0.405  0.37   0.435  0.39   0.43   0.44   0.375\n",
        "   0.37   0.335  0.415  0.33   0.355  0.425  0.395  0.335  0.415  0.415\n",
        "   0.34   0.42   0.355  0.4    0.36   0.35   0.375  0.395  0.44   0.36\n",
        "   0.38   0.365  0.44   0.375  0.35   0.415  0.375  0.335  0.365  0.405\n",
        "   0.37   0.37   0.415  0.35   0.385  0.435  0.46   0.445  0.445  0.38\n",
        "   0.455  0.37   0.365  0.4    0.445  0.375  0.405  0.35   0.33   0.37\n",
        "   0.47   0.39   0.43   0.41   0.42   0.37   0.415  0.47   0.46   0.415\n",
        "   0.415  0.385  0.4    0.42   0.41   0.44   0.385  0.435  0.41   0.37\n",
        "   0.435  0.395  0.4    0.345  0.46   0.375  0.38   0.4    0.46   0.385\n",
        "   0.385  0.365  0.415  0.375  0.385  0.37   0.32   0.42   0.415  0.43\n",
        "   0.375  0.36   0.37   0.355  0.365  0.375  0.39   0.47   0.375  0.4    0.45\n",
        "   0.37   0.45   0.445  0.405  0.445  0.375  0.365  0.465  0.41   0.455\n",
        "   0.29   0.455  0.355  0.45   0.325  0.425  0.36   0.43   0.35   0.45\n",
        "   0.36   0.43   0.405  0.375  0.375  0.355  0.385  0.445  0.37   0.43\n",
        "   0.37   0.415  0.445  0.45   0.47   0.36   0.365  0.41   0.435  0.455\n",
        "   0.445  0.405  0.405  0.425  0.395  0.405  0.41   0.44   0.435  0.36   0.4\n",
        "   0.4    0.425  0.445  0.435  0.435  0.415  0.39   0.41   0.405  0.46\n",
        "   0.345  0.385  0.43   0.375  0.39   0.37   0.385  0.385  0.38   0.375\n",
        "   0.355  0.41   0.42   0.36   0.435  0.39   0.39   0.36   0.375  0.385\n",
        "   0.405  0.385  0.375  0.405  0.41   0.355  0.36   0.405  0.435  0.4\n",
        "   0.365  0.415  0.43   0.365  0.37   0.37   0.345  0.405  0.435  0.37\n",
        "   0.395  0.435  0.395  0.37   0.38   0.415  0.445  0.405  0.385  0.41\n",
        "   0.35   0.36   0.435  0.445  0.38   0.375  0.405  0.39   0.385  0.455\n",
        "   0.395  0.37   0.385  0.41   0.405  0.39   0.39   0.385  0.43   0.415\n",
        "   0.425  0.3    0.34   0.37   0.42   0.44   0.365  0.405  0.38   0.36   0.4\n",
        "   0.405  0.39   0.42   0.425  0.355  0.415  0.4    0.375  0.44   0.45\n",
        "   0.35   0.355  0.39   0.385  0.405  0.4    0.385  0.415  0.395  0.405\n",
        "   0.425  0.415  0.425  0.35   0.435  0.38   0.335  0.43   0.4    0.44\n",
        "   0.44   0.38   0.36   0.415  0.395  0.34   0.39   0.35   0.395  0.415\n",
        "   0.375  0.385  0.395  0.41   0.425  0.405  0.37   0.415  0.34   0.365\n",
        "   0.41   0.39   0.43   0.345  0.405  0.37   0.365  0.375  0.42   0.35\n",
        "   0.39   0.435  0.33   0.425  0.405  0.385  0.355  0.415  0.375  0.465\n",
        "   0.415  0.42   0.37   0.38   0.395  0.38   0.425  0.41   0.4    0.42\n",
        "   0.365  0.42   0.395  0.415  0.465  0.42   0.395  0.435  0.405  0.36\n",
        "   0.395  0.325  0.42   0.42   0.395  0.37   0.455  0.425  0.41   0.375\n",
        "   0.375  0.38   0.355  0.43   0.375  0.405  0.44   0.37   0.43   0.44\n",
        "   0.34   0.4    0.38   0.45 ]]\n"
       ]
      }
     ],
     "prompt_number": 9
    },
    {
     "cell_type": "code",
     "collapsed": false,
     "input": [
      "danslesbornesplus=np.where(x<borneplus, 1, 0) \n",
      "danslesbornesmoins=np.where(x>bornemoins, 1, 0) \n",
      "danslesbornes=danslesbornesplus*danslesbornesmoins\n",
      "print(danslesbornes)\n",
      "binomial=danslesbornes.sum(1)\n",
      "print(\"On a\", binomial[0], \" echantillons dont la fr\u00e9quence est dans l'intervalle de fluctuation sur les \", nombreechant , \" soit une proportion de \",binomial[0]/nombreechant*100,\"%\") "
     ],
     "language": "python",
     "metadata": {},
     "outputs": [
      {
       "output_type": "stream",
       "stream": "stdout",
       "text": [
        "[[1 1 1 1 1 0 1 1 1 1 1 1 1 1 1 1 1 1 1 0 1 1 1 1 1 1 1 1 1 1 1 1 1 1 1 1 1\n",
        "  1 1 1 1 1 1 1 1 1 1 1 1 1 0 1 1 1 1 1 1 1 1 1 1 1 1 0 1 1 1 1 1 1 1 1 1 1\n",
        "  1 1 1 1 1 1 1 1 1 1 1 1 1 1 1 1 1 1 1 1 1 1 1 1 1 1 1 1 1 1 1 1 1 1 1 1 1\n",
        "  1 1 1 0 1 1 1 1 1 1 1 1 1 1 1 1 1 1 1 1 1 1 1 1 1 1 0 1 1 1 1 1 1 1 1 1 1\n",
        "  1 1 1 1 1 1 1 1 1 1 1 1 0 1 1 1 1 1 1 1 1 1 1 1 1 1 1 1 1 1 1 1 1 1 1 1 1\n",
        "  1 1 1 1 1 1 1 1 1 1 1 1 1 1 1 1 1 1 1 1 1 1 1 1 1 1 1 1 0 1 1 1 1 1 1 1 1\n",
        "  1 1 0 1 1 1 1 1 1 1 1 1 1 1 1 1 1 1 1 1 1 1 1 1 1 1 1 1 1 1 1 1 1 1 1 1 1\n",
        "  1 1 1 1 1 1 1 1 1 1 1 1 1 1 1 1 1 1 1 1 1 1 1 1 1 1 1 1 1 1 1 1 1 1 1 1 1\n",
        "  1 1 1 1 1 1 1 1 1 1 1 1 1 1 1 1 1 1 1 1 1 1 1 1 1 1 1 1 1 1 1 1 1 1 1 1 1\n",
        "  1 1 1 1 1 1 1 1 1 1 1 1 1 1 1 1 1 1 1 1 1 1 1 1 1 1 1 1 1 1 1 1 1 1 1 1 1\n",
        "  1 1 1 1 1 0 1 1 1 1 0 1 1 1 1 1 1 1 1 1 0 1 1 1 1 1 1 1 1 1 1 1 1 1 1 1 1\n",
        "  1 1 1 1 1 1 1 1 1 0 1 1 1 1 1 1 1 0 1 1 1 1 1 1 1 1 1 1 1 1 1 1 1 1 0 1 1\n",
        "  1 1 1 1 1 1 1 0 1 1 1 1 1 1 1 1 1 1 1 1 1 0 1 1 1 1 1 1 1 1 1 1 1 1 1 1 1\n",
        "  1 1 1 1 1 1 1 1 1 1 1 1 1 1 1 1 1 1 1 1 1 1 1 1 1 1 1 1 1 1 1 1 1 1 1 1 1\n",
        "  1 1 1 1 1 1 1 1 1 1 1 1 1 1 0 1 1 1 1 0 1 1 0 1 1 1 1 1 0 1 1 1 1 1 1 1 1\n",
        "  1 1 1 1 1 1 1 1 1 1 1 1 1 1 1 1 1 1 1 1 1 1 1 1 1 1 1 1 1 1 1 1 1 1 1 1 1\n",
        "  1 1 1 1 1 1 1 1 1 1 1 1 1 1 1 1 1 1 1 1 1 1 1 1 1 1 1 1 1 1 1 0 1 1 1 1 0\n",
        "  1 1 1 1 1 1 1 1 1 1 1 1 1 1 1 1 1 1 1 1 1 1 1 1 1 1 1 1 1 1 1 1 1 1 1 1 1\n",
        "  1 1 1 1 1 1 1 1 1 1 1 1 1 1 1 1 1 1 1 1 1 1 1 1 1 1 1 1 1 1 1 1 1 1 1 1 1\n",
        "  1 1 1 1 1 1 1 1 1 1 1 1 1 1 1 1 1 1 1 1 1 1 1 1 1 1 0 1 1 1 1 1 1 1 1 1 1\n",
        "  1 1 1 1 1 1 1 1 1 1 1 1 1 1 0 1 1 1 0 1 1 1 1 1 1 1 1 1 1 1 1 1 1 1 1 1 1\n",
        "  1 1 1 1 1 1 1 1 1 1 1 1 1 1 1 1 1 1 1 1 1 1 1 1 1 1 1 1 1 1 1 1 1 1 1 1 1\n",
        "  1 1 1 1 1 1 1 1 1 1 1 1 1 1 1 1 1 1 1 1 1 1 1 1 1 1 1 1 1 1 1 1 1 1 1 1 1\n",
        "  1 1 1 1 1 1 1 1 1 1 1 1 1 1 1 1 1 1 1 1 1 1 1 1 1 0 1 1 1 1 1 1 1 1 1 1 1\n",
        "  1 1 1 1 1 1 1 1 1 1 1 1 1 1 1 1 1 1 1 1 1 1 1 1 1 1 1 1 1 1 1 1 1 1 1 1 1\n",
        "  1 1 1 1 1 1 1 1 1 1 1 1 1 1 1 1 1 1 1 1 1 1 1 1 1 1 1 1 1 1 1 1 1 1 1 1 1\n",
        "  1 1 1 1 1 1 1 1 1 1 1 1 1 1 1 0 1 1 1 1 1 1 1 1 1 1 1 1 1 1 1 1 1 1 1 1 1\n",
        "  1]]\n",
        "On a 972  echantillons dont la fr\u00e9quence est dans l'intervalle de fluctuation sur les  1000  soit une proportion de  97.2 %\n"
       ]
      }
     ],
     "prompt_number": 10
    },
    {
     "cell_type": "code",
     "collapsed": false,
     "input": [
      "y=numpy.linspace(0, 10, num=nombreechant)\n",
      "plt.scatter(y,x, alpha=0.5)\n",
      "linex=[-2,12]\n",
      "lineproba=[p,p]\n",
      "lineprobaPlus=[p+1/sqrt(n),p+1/sqrt(n)]\n",
      "lineprobaMoins=[p-1/sqrt(n),p-1/sqrt(n)]\n",
      "\n",
      "\n",
      "plt.plot(linex,lineproba,color=\"red\", linewidth=3)\n",
      "plt.plot(linex,lineprobaPlus)\n",
      "plt.plot(linex,lineprobaMoins)\n",
      "plt.show()"
     ],
     "language": "python",
     "metadata": {},
     "outputs": [
      {
       "metadata": {},
       "output_type": "display_data",
       "png": "[encoded data removed]",
       "text": [
        "<matplotlib.figure.Figure at 0x6fabd30>"
       ]
      }
     ],
     "prompt_number": 11
    },
    {
     "cell_type": "code",
     "collapsed": false,
     "input": [],
     "language": "python",
     "metadata": {},
     "outputs": []
    },
    {
     "cell_type": "code",
     "collapsed": false,
     "input": [],
     "language": "python",
     "metadata": {},
     "outputs": []
    }
   ],
   "metadata": {}
  }
 ]
}